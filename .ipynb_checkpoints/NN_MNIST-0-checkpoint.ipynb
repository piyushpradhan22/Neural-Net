{
 "cells": [
  {
   "cell_type": "code",
   "execution_count": 1,
   "id": "866f9121-b43a-4934-b571-599dd19e143b",
   "metadata": {},
   "outputs": [],
   "source": [
    "import pandas as pd\n",
    "import numpy as np\n",
    "import matplotlib.pyplot as plt"
   ]
  },
  {
   "cell_type": "code",
   "execution_count": 2,
   "id": "e8de670c-87ff-4425-aa02-6577535d714e",
   "metadata": {},
   "outputs": [],
   "source": [
    "df = pd.read_csv(\"mnist/mnist_train.csv\")"
   ]
  },
  {
   "cell_type": "code",
   "execution_count": 3,
   "id": "8e181b68-7eb3-4ee0-addf-cb173bdf5ae8",
   "metadata": {},
   "outputs": [
    {
     "name": "stdout",
     "output_type": "stream",
     "text": [
      "(60000, 10) (60000, 784)\n"
     ]
    }
   ],
   "source": [
    "data = df.to_numpy()\n",
    "#one hot encoding of labels 0-9\n",
    "labels = pd.get_dummies(df.label).to_numpy()\n",
    "images = data[:,1:]\n",
    "print(labels.shape, images.shape)"
   ]
  },
  {
   "cell_type": "code",
   "execution_count": 4,
   "id": "3f2503a9-9f1f-4c33-b0fb-4a73298022b5",
   "metadata": {},
   "outputs": [
    {
     "data": {
      "image/png": "[encoded data removed]",
      "text/plain": [
       "<Figure size 432x288 with 1 Axes>"
      ]
     },
     "metadata": {
      "needs_background": "light"
     },
     "output_type": "display_data"
    }
   ],
   "source": [
    "plt.imshow(images[0].reshape(28,28),'gray')\n",
    "plt.title(\"Label : \" + str(labels[0]))\n",
    "plt.show()"
   ]
  },
  {
   "cell_type": "code",
   "execution_count": 5,
   "id": "bfb72440-7778-4b6f-9bf9-f28d7b4c0505",
   "metadata": {},
   "outputs": [],
   "source": [
    "#Softmax Activation Function\n",
    "'''\n",
    "We exponentiate the values to handle negative\n",
    "Then we take probability or Normalize\n",
    "clip the values to avoid divide by zero error. 1e-7 is close to zero\n",
    "'''\n",
    "def softmax(x):\n",
    "    e = np.exp(np.clip(x, 1e-7,1-1e-7))\n",
    "    return e/np.sum(e, axis=1, keepdims=True)"
   ]
  },
  {
   "cell_type": "code",
   "execution_count": 6,
   "id": "75ef895e-f7bc-48ff-983f-82f84a885bf5",
   "metadata": {},
   "outputs": [],
   "source": [
    "# Loss Function\n",
    "'''\n",
    "Idea is to take -log\n",
    "'''\n",
    "def lossSoftmax(softmaxScore):\n",
    "    #\n",
    "    a = np.multiply(softmaxScore,labels)\n",
    "    b = np.sum(a,axis=1, keepdims=True)\n",
    "    c = -np.log(b)\n",
    "    return np.mean(c)"
   ]
  },
  {
   "cell_type": "code",
   "execution_count": 7,
   "id": "2e52d211-8c88-426e-a06c-cef19c5e10ca",
   "metadata": {},
   "outputs": [],
   "source": [
    "#Accuracy\n",
    "def accuracyOfModel():\n",
    "    return np.mean(np.argmax(score, axis=1) == df.label.to_numpy())"
   ]
  },
  {
   "cell_type": "markdown",
   "id": "c836f4a5-9fd3-45ca-a786-cfe4256d15c0",
   "metadata": {
    "jp-MarkdownHeadingCollapsed": true,
    "tags": []
   },
   "source": [
    "## Example"
   ]
  },
  {
   "cell_type": "code",
   "execution_count": 8,
   "id": "1ba4d356-06e2-45c9-b5a5-3bf934b6c8b3",
   "metadata": {},
   "outputs": [
    {
     "data": {
      "text/plain": [
       "array([[3, 5, 4, 9, 7, 2, 4, 7, 2, 9],\n",
       "       [6, 1, 0, 2, 5, 7, 8, 3, 6, 7],\n",
       "       [7, 0, 3, 9, 3, 7, 2, 3, 6, 2],\n",
       "       [8, 3, 9, 6, 8, 8, 4, 5, 3, 6],\n",
       "       [0, 0, 7, 9, 8, 5, 8, 4, 1, 3]])"
      ]
     },
     "execution_count": 8,
     "metadata": {},
     "output_type": "execute_result"
    }
   ],
   "source": [
    "## Example\n",
    "images = np.random.randint(0,10,(5,10))\n",
    "images"
   ]
  },
  {
   "cell_type": "code",
   "execution_count": 9,
   "id": "2761e04a-b983-4111-a979-a1fc6af06445",
   "metadata": {},
   "outputs": [
    {
     "data": {
      "text/plain": [
       "array([[1, 0, 0],\n",
       "       [0, 1, 0],\n",
       "       [0, 0, 1],\n",
       "       [0, 0, 1],\n",
       "       [0, 1, 0]], dtype=uint8)"
      ]
     },
     "execution_count": 9,
     "metadata": {},
     "output_type": "execute_result"
    }
   ],
   "source": [
    "# Example\n",
    "df = pd.DataFrame({'label': [0,1,2,2,1]})\n",
    "labels = pd.get_dummies(df.label).to_numpy()\n",
    "labels"
   ]
  },
  {
   "cell_type": "code",
   "execution_count": 11,
   "id": "6392f012-fb96-406f-8e57-8116fccc0940",
   "metadata": {},
   "outputs": [],
   "source": [
    "'''\n",
    "f = wx+b\n",
    "Weights and Bias initialization\n",
    "multiply by 0.05 exp of minus(-) gives almost identical results\n",
    "'''\n",
    "w = 0.05 * np.random.randn(images.shape[1],labels.shape[1])\n",
    "b = 0.05 * np.random.randn(1,labels.shape[1])\n",
    "score = images.dot(w) + b\n",
    "softmaxScore = softmax(score)\n",
    "loss = lossSoftmax(softmaxScore)"
   ]
  },
  {
   "cell_type": "code",
   "execution_count": 15,
   "id": "4de965ca-ddb7-4a83-80e5-f210a2481355",
   "metadata": {},
   "outputs": [
    {
     "data": {
      "text/plain": [
       "array([[3, 5, 4, 9, 7, 2, 4, 7, 2, 9],\n",
       "       [6, 1, 0, 2, 5, 7, 8, 3, 6, 7],\n",
       "       [7, 0, 3, 9, 3, 7, 2, 3, 6, 2],\n",
       "       [8, 3, 9, 6, 8, 8, 4, 5, 3, 6],\n",
       "       [0, 0, 7, 9, 8, 5, 8, 4, 1, 3]])"
      ]
     },
     "execution_count": 15,
     "metadata": {},
     "output_type": "execute_result"
    }
   ],
   "source": [
    "images"
   ]
  },
  {
   "cell_type": "code",
   "execution_count": 12,
   "id": "d55be32b-b4a4-468a-9ac8-7b6a750bdb19",
   "metadata": {},
   "outputs": [
    {
     "data": {
      "text/plain": [
       "array([[-0.00907057, -0.03904277, -0.00236844],\n",
       "       [-0.00050847,  0.06035114, -0.00431887],\n",
       "       [-0.00592322, -0.0322658 ,  0.04570372],\n",
       "       [ 0.00520268,  0.04320695, -0.03260217],\n",
       "       [-0.03302736,  0.09425869, -0.08948096],\n",
       "       [ 0.0996144 ,  0.01182547,  0.04795952],\n",
       "       [-0.03167958,  0.09596326, -0.01136417],\n",
       "       [ 0.06682788, -0.05165079, -0.05160377],\n",
       "       [ 0.06639948, -0.01523376,  0.02624864],\n",
       "       [-0.05651688, -0.06063197, -0.01471576]])"
      ]
     },
     "execution_count": 12,
     "metadata": {},
     "output_type": "execute_result"
    }
   ],
   "source": [
    "w"
   ]
  },
  {
   "cell_type": "code",
   "execution_count": 13,
   "id": "4682224a-082f-4c5e-b220-445bcb02a6d9",
   "metadata": {},
   "outputs": [
    {
     "data": {
      "text/plain": [
       "array([[-0.05669238,  0.0072739 , -0.0349235 ]])"
      ]
     },
     "execution_count": 13,
     "metadata": {},
     "output_type": "execute_result"
    }
   ],
   "source": [
    "b"
   ]
  },
  {
   "cell_type": "code",
   "execution_count": 16,
   "id": "1047dd32-81d8-4021-b562-b364119e297c",
   "metadata": {},
   "outputs": [
    {
     "data": {
      "text/plain": [
       "array([[-0.13005393,  0.58130467, -1.19130314],\n",
       "       [ 0.38077087,  0.57078138, -0.42158871],\n",
       "       [ 0.92957446,  0.21590167, -0.19001653],\n",
       "       [ 0.44733938,  0.40961395, -0.49630286],\n",
       "       [ 0.09324614,  1.34744599, -0.79969418]])"
      ]
     },
     "execution_count": 16,
     "metadata": {},
     "output_type": "execute_result"
    }
   ],
   "source": [
    "score"
   ]
  },
  {
   "cell_type": "code",
   "execution_count": 18,
   "id": "52e49ce6-93ee-4521-8b0e-d66cb4a35bb0",
   "metadata": {},
   "outputs": [
    {
     "data": {
      "text/plain": [
       "array([[0.26396577, 0.47206846, 0.26396577],\n",
       "       [0.34571012, 0.41805422, 0.23623566],\n",
       "       [0.53062686, 0.25992322, 0.20944993],\n",
       "       [0.38427482, 0.37004793, 0.24567725],\n",
       "       [0.22793372, 0.56442564, 0.20764063]])"
      ]
     },
     "execution_count": 18,
     "metadata": {},
     "output_type": "execute_result"
    }
   ],
   "source": [
    "softmaxScore.shape"
   ]
  },
  {
   "cell_type": "code",
   "execution_count": 21,
   "id": "fb2e10a6-ed37-41d5-a508-e96a00d40097",
   "metadata": {},
   "outputs": [
    {
     "data": {
      "text/plain": [
       "1.1486067546873553"
      ]
     },
     "execution_count": 21,
     "metadata": {},
     "output_type": "execute_result"
    }
   ],
   "source": [
    "loss"
   ]
  },
  {
   "cell_type": "markdown",
   "id": "d57ba641-9fb7-4493-b4d8-2240f5bafe15",
   "metadata": {},
   "source": [
    "## Training"
   ]
  },
  {
   "cell_type": "code",
   "execution_count": 8,
   "id": "86ea38e6-2ae4-4877-8afe-8def31ea8686",
   "metadata": {},
   "outputs": [],
   "source": [
    "'''\n",
    "f = wx+b\n",
    "Weights and Bias initialization\n",
    "multiply by 0.05 exp of minus(-) gives almost identical results\n",
    "'''\n",
    "w = 0.05 * np.random.randn(images.shape[1],labels.shape[1])\n",
    "b = 0.05 * np.random.randn(1,labels.shape[1])\n",
    "score = images.dot(w) + b\n",
    "softmaxScore = softmax(score)\n",
    "loss = lossSoftmax(softmaxScore)"
   ]
  },
  {
   "cell_type": "code",
   "execution_count": 9,
   "id": "e7efad76-beac-4e23-bfd0-77ffd6fb9a55",
   "metadata": {},
   "outputs": [
    {
     "name": "stdout",
     "output_type": "stream",
     "text": [
      "Iteration : 0 Accuracy : 0.19525 Loss : 2.283129470322751\n",
      "----------------------------------------------------------------\n",
      "Iteration : 61 Accuracy : 0.17036666666666667 Loss : 2.259904483629741\n",
      "----------------------------------------------------------------\n",
      "!!!Completed!!! Accuracy : 0.17036666666666667 Loss : 2.259904483629741\n"
     ]
    }
   ],
   "source": [
    "'''\n",
    "Random Search of Weights and Biases\n",
    "'''\n",
    "for i in range(300):\n",
    "    w1 = 0.05 * np.random.randn(images.shape[1],labels.shape[1])\n",
    "    b1 = 0.05 * np.random.randn(1,labels.shape[1])\n",
    "    score1 = images.dot(w1) + b1\n",
    "    softmaxScore1 = softmax(score1)\n",
    "    loss1 = lossSoftmax(softmaxScore1)\n",
    "    if loss1<loss:\n",
    "        w = w1\n",
    "        b = b1\n",
    "        score = score1\n",
    "        loss=loss1\n",
    "        print(\"Iteration :\",i,\"Accuracy :\", accuracyOfModel(), \"Loss :\", loss)\n",
    "        print(\"----------------------------------------------------------------\")\n",
    "print(\"!!!Completed!!!\", \"Accuracy :\", accuracyOfModel(), \"Loss :\", loss)"
   ]
  },
  {
   "cell_type": "code",
   "execution_count": 10,
   "id": "348eb51b-c694-431d-8730-b17c7d8aec6d",
   "metadata": {},
   "outputs": [],
   "source": [
    "'''\n",
    "f = wx+b\n",
    "Weights and Bias initialization\n",
    "multiply by 0.05 exp of minus(-) gives almost identical results\n",
    "'''\n",
    "w = 0.05 * np.random.randn(images.shape[1],labels.shape[1])\n",
    "b = 0.05 * np.random.randn(1,labels.shape[1])\n",
    "score = images.dot(w) + b\n",
    "softmaxScore = softmax(score)\n",
    "loss = lossSoftmax(softmaxScore)"
   ]
  },
  {
   "cell_type": "code",
   "execution_count": 11,
   "id": "fa2861aa-eee6-460e-9893-687a3314900f",
   "metadata": {},
   "outputs": [
    {
     "name": "stdout",
     "output_type": "stream",
     "text": [
      "!!!Completed!!! Accuracy : 0.34523333333333334 Loss : 2.031810926188324\n"
     ]
    }
   ],
   "source": [
    "'''\n",
    "Random Search of Weights and Biases but to increment current best known W and B\n",
    "'''\n",
    "for i in range(300):\n",
    "    w1 = w + 0.05 * np.random.randn(images.shape[1],labels.shape[1])\n",
    "    b1 = b + 0.05 * np.random.randn(1,labels.shape[1])\n",
    "    score1 = images.dot(w1) + b1\n",
    "    softmaxScore1 = softmax(score1)\n",
    "    loss1 = lossSoftmax(softmaxScore1)\n",
    "    if loss1<loss:\n",
    "        w = w1\n",
    "        b = b1\n",
    "        score = score1\n",
    "        softmaxScore = softmaxScore1\n",
    "        loss=loss1\n",
    "        #print(\"Iteration :\",i,\"Accuracy :\", accuracyOfModel(), \"Loss :\", loss)\n",
    "        #print(\"----------------------------------------------------------------\")\n",
    "print(\"!!!Completed!!!\", \"Accuracy :\", accuracyOfModel(), \"Loss :\", loss)"
   ]
  },
  {
   "cell_type": "code",
   "execution_count": null,
   "id": "ab3422aa-aeae-45c0-a8c1-b2c56417775a",
   "metadata": {},
   "outputs": [],
   "source": []
  }
 ],
 "metadata": {
  "kernelspec": {
   "display_name": "Python 3 (ipykernel)",
   "language": "python",
   "name": "python3"
  },
  "language_info": {
   "codemirror_mode": {
    "name": "ipython",
    "version": 3
   },
   "file_extension": ".py",
   "mimetype": "text/x-python",
   "name": "python",
   "nbconvert_exporter": "python",
   "pygments_lexer": "ipython3",
   "version": "3.10.2"
  }
 },
 "nbformat": 4,
 "nbformat_minor": 5
}
