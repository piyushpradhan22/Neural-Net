{
 "cells": [
  {
   "cell_type": "code",
   "execution_count": 1,
   "id": "b1e457bb-244d-456d-8dd9-8dc0999b6f8b",
   "metadata": {},
   "outputs": [],
   "source": [
    "import dllHelper\n",
    "dllHelper.loadDll(\"C:\\\\Program Files\\\\NVIDIA GPU Computing Toolkit\\\\CUDA\\\\v11.2\\\\bin\\\\*.dll\")"
   ]
  },
  {
   "cell_type": "code",
   "execution_count": 2,
   "id": "49f56675-2c89-4135-9474-db16073c6417",
   "metadata": {},
   "outputs": [
    {
     "name": "stdout",
     "output_type": "stream",
     "text": [
      "2.8.0\n",
      "Num GPUs Available:  1\n"
     ]
    }
   ],
   "source": [
    "import time\n",
    "import pandas as pd\n",
    "import numpy as np\n",
    "import matplotlib.pyplot as plt\n",
    "import tensorflow as tf\n",
    "print(tf.__version__)\n",
    "print(\"Num GPUs Available: \", len(tf.config.list_physical_devices('GPU')))"
   ]
  },
  {
   "cell_type": "markdown",
   "id": "1e7892a8-2298-4d55-898d-3c83d594ca02",
   "metadata": {},
   "source": [
    "## Loading Data"
   ]
  },
  {
   "cell_type": "code",
   "execution_count": 3,
   "id": "54b0d097-40d9-445f-af7e-6a16995bd927",
   "metadata": {},
   "outputs": [
    {
     "name": "stdout",
     "output_type": "stream",
     "text": [
      "(60000, 784) (60000,) (60000, 10) (10000, 784) (10000,)\n"
     ]
    }
   ],
   "source": [
    "(x_train, y_train), (x_test, y_test) = tf.keras.datasets.mnist.load_data()\n",
    "\n",
    "x_train = x_train.reshape(x_train.shape[0], x_train.shape[1]*x_train.shape[2])/255\n",
    "x_test = x_test.reshape(x_test.shape[0], x_test.shape[1]*x_test.shape[2])/255\n",
    "y_train_1h = pd.get_dummies(pd.DataFrame(y_train)[0]).to_numpy()\n",
    "print(x_train.shape, y_train.shape, y_train_1h.shape, x_test.shape, y_test.shape)"
   ]
  },
  {
   "cell_type": "code",
   "execution_count": 4,
   "id": "5892b0a5-c579-420b-a3e5-1b2e20354b14",
   "metadata": {},
   "outputs": [
    {
     "name": "stdout",
     "output_type": "stream",
     "text": [
      "60000 784 15 10\n"
     ]
    }
   ],
   "source": [
    "m, n = x_train.shape\n",
    "c = y_train_1h.shape[1]\n",
    "p = 15\n",
    "print(m, n, p, c)"
   ]
  },
  {
   "cell_type": "markdown",
   "id": "afe0d197-88db-44e5-b70a-cdf92d01ee8c",
   "metadata": {},
   "source": [
    "## Implementing Model in Tensorflow"
   ]
  },
  {
   "cell_type": "code",
   "execution_count": 5,
   "id": "e0289bd3-400c-4e14-b273-8722c23efd7d",
   "metadata": {},
   "outputs": [],
   "source": [
    "beta1 = 0.9\n",
    "beta2 = 0.999\n",
    "def crossEntropySoftmax(softmaxScore, y1h):\n",
    "    a = tf.multiply(softmaxScore, y1h)\n",
    "    b = tf.reduce_sum(a,axis=1, keepdims=True)\n",
    "    c = -tf.math.log(b)\n",
    "    return c\n",
    "\n",
    "def adamOptimizer(dxs, first_moments, second_moments, t):\n",
    "    dxc = []\n",
    "    fm = []\n",
    "    sm = []\n",
    "    for dx, first_moment, second_moment in zip(dxs, first_moments, second_moments):\n",
    "        first_moment = beta1 * first_moment + (1-beta1) * dx\n",
    "        second_moment = beta2 * second_moment + (1-beta2) * dx * dx\n",
    "        first_unbias = first_moment / (1 - beta1 ** t)\n",
    "        second_unbias = second_moment/ (1 - beta2 ** t)\n",
    "        dxc.append(first_unbias / (tf.sqrt(second_unbias) + 1e-7))\n",
    "        fm.append(first_moment)\n",
    "        sm.append(second_moment)\n",
    "    return dxc, fm, sm"
   ]
  },
  {
   "cell_type": "code",
   "execution_count": 6,
   "id": "298af75d-da43-4254-a6e7-75570fe297f0",
   "metadata": {},
   "outputs": [],
   "source": [
    "x = tf.constant (x_train, dtype=tf.float32)\n",
    "y = tf.constant(y_train_1h, dtype=tf.float32)"
   ]
  },
  {
   "cell_type": "code",
   "execution_count": 7,
   "id": "24144328-5433-41b0-863b-8b18f8cbb684",
   "metadata": {},
   "outputs": [],
   "source": [
    "metric = tf.metrics.Accuracy()\n",
    "initializer = tf.initializers.GlorotUniform()\n",
    "w1 = tf.Variable(initializer(shape=(n,p)), dtype=tf.float32)\n",
    "b1 = tf.Variable(initializer(shape=(1,p)), dtype=tf.float32)\n",
    "w2 = tf.Variable(initializer(shape=(p,c)), dtype=tf.float32)\n",
    "b2 = tf.Variable(initializer(shape=(1,c)), dtype=tf.float32)"
   ]
  },
  {
   "cell_type": "code",
   "execution_count": 15,
   "id": "c1eb757e-566a-4691-a72d-b0275b6c0caa",
   "metadata": {},
   "outputs": [
    {
     "name": "stdout",
     "output_type": "stream",
     "text": [
      "0  Loss: 0.066868514  Accuracy: 0.9685296\n",
      "1000  Loss: 0.06274001  Accuracy: 0.9715861\n",
      "2000  Loss: 0.057282083  Accuracy: 0.9739919\n",
      "3000  Loss: 0.053165372  Accuracy: 0.97583765\n",
      "4000  Loss: 0.04950071  Accuracy: 0.9773486\n",
      "5000  Loss: 0.048277494  Accuracy: 0.978606\n",
      "6000  Loss: 0.04540297  Accuracy: 0.9796627\n",
      "7000  Loss: 0.051878266  Accuracy: 0.9805189\n",
      "8000  Loss: 0.04505042  Accuracy: 0.9812626\n",
      "9000  Loss: 0.04076171  Accuracy: 0.9819246\n",
      "10000  Loss: 0.041321475  Accuracy: 0.98251677\n",
      "Complete!!!  Loss: 0.041321475  Accuracy: 0.98251677\n",
      "Time Elapsed: 8.772208515803019 Minutes\n"
     ]
    }
   ],
   "source": [
    "lr = 0.01\n",
    "itr = 10000\n",
    "start_time = time.time()\n",
    "prm = np.empty((1,3))\n",
    "\n",
    "fm = [0,0,0,0]\n",
    "sm = [0,0,0,0]\n",
    "\n",
    "for i in range(itr+1):\n",
    "    with tf.GradientTape() as g:\n",
    "        g.watch([w1, b1, w2, b2])\n",
    "        # Forward Pass\n",
    "        z1 = tf.matmul(x, w1) + b1\n",
    "        a1 = tf.nn.relu(z1)\n",
    "        z2 = tf.matmul(a1, w2) + b2\n",
    "        a2 = tf.nn.softmax(z2)\n",
    "        ce = crossEntropySoftmax(a2, y)\n",
    "        loss = tf.reduce_mean(ce)\n",
    "        dw1, db1, dw2, db2 = g.gradient(loss, [w1, b1, w2, b2])\n",
    "        \n",
    "        #Adam Optimizer\n",
    "        \n",
    "        (dw1, db1, dw2, db2) , fm, sm = adamOptimizer([dw1, db1, dw2, db2], fm, sm, i+1)\n",
    "        \n",
    "        #Gradient Update\n",
    "        w1.assign_sub(lr*dw1)\n",
    "        b1.assign_sub(lr*db1)\n",
    "        w2.assign_sub(lr*dw2)\n",
    "        b2.assign_sub(lr*db2)\n",
    "\n",
    "        #Accuracy\n",
    "        metric.update_state(tf.argmax(y, 1), tf.argmax(a2,1))\n",
    "        acc = metric.result().numpy()\n",
    "        prm = np.append(prm, [[i,loss.numpy(), acc]], axis=0)\n",
    "        \n",
    "        #Printing Parameters\n",
    "        if i%(itr/10) ==0:\n",
    "            print(i, \" Loss:\",loss.numpy(), \" Accuracy:\",acc)\n",
    "end_time = time.time()\n",
    "print(\"Complete!!!\", \" Loss:\",loss.numpy(), \" Accuracy:\",acc)\n",
    "print(\"Time Elapsed:\" , (end_time - start_time)/60, \"Minutes\")"
   ]
  },
  {
   "cell_type": "code",
   "execution_count": 14,
   "id": "0168a3fa-980d-4f7d-9333-e59d4558000f",
   "metadata": {},
   "outputs": [
    {
     "data": {
      "image/png": "[encoded data removed]",
      "text/plain": [
       "<Figure size 1800x360 with 2 Axes>"
      ]
     },
     "metadata": {
      "needs_background": "light"
     },
     "output_type": "display_data"
    }
   ],
   "source": [
    "plt.figure(figsize=(25, 5))\n",
    "plt.subplot(1,2,1)\n",
    "plt.title(\"Loss\")\n",
    "plt.plot(prm[1:,0], prm[1:,1])\n",
    "plt.subplot(1,2,2)\n",
    "plt.title(\"Accuracy\")\n",
    "plt.plot(prm[1:,0], prm[1:,2])\n",
    "plt.show()"
   ]
  },
  {
   "cell_type": "code",
   "execution_count": null,
   "id": "9f4ae0c7-0a7a-4529-9800-24b0fc566628",
   "metadata": {},
   "outputs": [],
   "source": []
  }
 ],
 "metadata": {
  "kernelspec": {
   "display_name": "Python 3 (ipykernel)",
   "language": "python",
   "name": "python3"
  },
  "language_info": {
   "codemirror_mode": {
    "name": "ipython",
    "version": 3
   },
   "file_extension": ".py",
   "mimetype": "text/x-python",
   "name": "python",
   "nbconvert_exporter": "python",
   "pygments_lexer": "ipython3",
   "version": "3.10.2"
  }
 },
 "nbformat": 4,
 "nbformat_minor": 5
}
