{
 "cells": [
  {
   "cell_type": "code",
   "execution_count": 1,
   "id": "49f56675-2c89-4135-9474-db16073c6417",
   "metadata": {},
   "outputs": [
    {
     "data": {
      "text/plain": [
       "'2.8.0'"
      ]
     },
     "execution_count": 1,
     "metadata": {},
     "output_type": "execute_result"
    }
   ],
   "source": [
    "import pandas as pd\n",
    "import numpy as np\n",
    "import matplotlib.pyplot as plt\n",
    "import tensorflow as tf\n",
    "tf.__version__"
   ]
  },
  {
   "cell_type": "markdown",
   "id": "1e7892a8-2298-4d55-898d-3c83d594ca02",
   "metadata": {},
   "source": [
    "## Loading Data"
   ]
  },
  {
   "cell_type": "code",
   "execution_count": 2,
   "id": "54b0d097-40d9-445f-af7e-6a16995bd927",
   "metadata": {},
   "outputs": [
    {
     "name": "stdout",
     "output_type": "stream",
     "text": [
      "(60000, 784) (60000,) (60000, 10) (10000, 784) (10000,)\n"
     ]
    }
   ],
   "source": [
    "(x_train, y_train), (x_test, y_test) = tf.keras.datasets.mnist.load_data()\n",
    "\n",
    "x_train = x_train.reshape(x_train.shape[0], x_train.shape[1]*x_train.shape[2])\n",
    "x_test = x_test.reshape(x_test.shape[0], x_test.shape[1]*x_test.shape[2])\n",
    "y_train_1h = pd.get_dummies(pd.DataFrame(y_train)[0]).to_numpy()\n",
    "print(x_train.shape, y_train.shape, y_train_1h.shape, x_test.shape, y_test.shape)"
   ]
  },
  {
   "cell_type": "code",
   "execution_count": 3,
   "id": "5892b0a5-c579-420b-a3e5-1b2e20354b14",
   "metadata": {},
   "outputs": [
    {
     "name": "stdout",
     "output_type": "stream",
     "text": [
      "60000 784 15 10\n"
     ]
    }
   ],
   "source": [
    "m, n = x_train.shape\n",
    "c = y_train_1h.shape[1]\n",
    "p = 15\n",
    "print(m, n, p, c)"
   ]
  },
  {
   "cell_type": "markdown",
   "id": "afe0d197-88db-44e5-b70a-cdf92d01ee8c",
   "metadata": {},
   "source": [
    "## Implementing Model in Tensorflow"
   ]
  },
  {
   "cell_type": "code",
   "execution_count": 4,
   "id": "298af75d-da43-4254-a6e7-75570fe297f0",
   "metadata": {},
   "outputs": [],
   "source": [
    "x = tf.convert_to_tensor(x_train, dtype=tf.float32)\n",
    "y = tf.convert_to_tensor(y_train_1h, dtype=tf.float32)"
   ]
  },
  {
   "cell_type": "code",
   "execution_count": 5,
   "id": "24144328-5433-41b0-863b-8b18f8cbb684",
   "metadata": {},
   "outputs": [],
   "source": [
    "initializer = tf.initializers.GlorotUniform()\n",
    "w1 = tf.Variable(initializer(shape=(n,p)), dtype=tf.float32)\n",
    "b1 = tf.Variable(initializer(shape=(1,p)), dtype=tf.float32)\n",
    "w2 = tf.Variable(initializer(shape=(p,c)), dtype=tf.float32)\n",
    "b2 = tf.Variable(initializer(shape=(1,c)), dtype=tf.float32)"
   ]
  },
  {
   "cell_type": "code",
   "execution_count": 6,
   "id": "e578d364-58b7-4969-88f6-6a5a19b1232c",
   "metadata": {},
   "outputs": [],
   "source": [
    "metric = tf.metrics.Accuracy()"
   ]
  },
  {
   "cell_type": "code",
   "execution_count": null,
   "id": "c1eb757e-566a-4691-a72d-b0275b6c0caa",
   "metadata": {},
   "outputs": [
    {
     "name": "stdout",
     "output_type": "stream",
     "text": [
      "0  Loss: 2.3505158  Accuracy: 0.110583335\n",
      "100  Loss: 1.832531  Accuracy: 0.50690097\n",
      "200  Loss: 1.80857  Accuracy: 0.57633466\n",
      "300  Loss: 1.7993724  Accuracy: 0.6033555\n",
      "400  Loss: 1.7975618  Accuracy: 0.61818856\n",
      "500  Loss: 1.794365  Accuracy: 0.62773585\n",
      "600  Loss: 1.792962  Accuracy: 0.6344796\n",
      "700  Loss: 1.7911857  Accuracy: 0.63954633\n",
      "800  Loss: 1.788526  Accuracy: 0.64351225\n",
      "900  Loss: 1.7868322  Accuracy: 0.64674556\n",
      "1000  Loss: 1.7893698  Accuracy: 0.6494009\n"
     ]
    }
   ],
   "source": [
    "lr = 0.1\n",
    "itr = 5000\n",
    "for i in range(itr+1):\n",
    "    with tf.GradientTape() as g:\n",
    "        g.watch([w1, b1, w2, b2])\n",
    "        # Forward Pass\n",
    "        z1 = tf.matmul(x, w1) + b1\n",
    "        a1 = tf.nn.relu(z1)\n",
    "        z2 = tf.matmul(a1, w2) + b2\n",
    "        a2 = tf.nn.softmax(z2)\n",
    "        ce = tf.nn.softmax_cross_entropy_with_logits(a2, y)\n",
    "        loss = tf.reduce_mean(ce)\n",
    "        dw1, db1, dw2, db2 = g.gradient(loss, [w1, b1, w2, b2])\n",
    "\n",
    "        #Gradient Update\n",
    "        w1.assign_sub(lr*dw1)\n",
    "        b1.assign_sub(lr*db1)\n",
    "        w2.assign_sub(lr*dw2)\n",
    "        b2.assign_sub(lr*db2)\n",
    "\n",
    "        #Accuracy\n",
    "        metric.update_state(tf.argmax(y, 1), tf.argmax(a2,1))\n",
    "        acc = metric.result().numpy()\n",
    "\n",
    "        #Printing Parameters\n",
    "        if i%(itr/50) ==0:\n",
    "            print(i, \" Loss:\",loss.numpy(), \" Accuracy:\",acc)\n",
    "print(\"Complete!!!\", \" Loss:\",loss.numpy(), \" Accuracy:\",acc)"
   ]
  },
  {
   "cell_type": "code",
   "execution_count": null,
   "id": "8e8eae91-dde8-418d-a55b-b71510135816",
   "metadata": {},
   "outputs": [],
   "source": []
  }
 ],
 "metadata": {
  "kernelspec": {
   "display_name": "Python 3 (ipykernel)",
   "language": "python",
   "name": "python3"
  },
  "language_info": {
   "codemirror_mode": {
    "name": "ipython",
    "version": 3
   },
   "file_extension": ".py",
   "mimetype": "text/x-python",
   "name": "python",
   "nbconvert_exporter": "python",
   "pygments_lexer": "ipython3",
   "version": "3.9.10"
  }
 },
 "nbformat": 4,
 "nbformat_minor": 5
}
