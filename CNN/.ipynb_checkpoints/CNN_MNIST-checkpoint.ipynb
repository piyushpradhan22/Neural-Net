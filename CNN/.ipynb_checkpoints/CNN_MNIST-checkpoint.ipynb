{
 "cells": [
  {
   "cell_type": "code",
   "execution_count": 1,
   "id": "866f9121-b43a-4934-b571-599dd19e143b",
   "metadata": {},
   "outputs": [],
   "source": [
    "import pandas as pd\n",
    "import numpy as np\n",
    "import matplotlib.pyplot as plt\n",
    "import math"
   ]
  },
  {
   "cell_type": "code",
   "execution_count": 2,
   "id": "0c39d9e9-6e8d-43e3-814b-4f01cb1496cf",
   "metadata": {},
   "outputs": [
    {
     "name": "stdout",
     "output_type": "stream",
     "text": [
      "(5000, 784) (5000,) (5000, 10)\n"
     ]
    }
   ],
   "source": [
    "df = pd.read_csv(\"mnist/mnist_train.csv\")[0:5000]\n",
    "data = df.to_numpy()\n",
    "X = data[:,1:] / 255\n",
    "Y = df.label.to_numpy()\n",
    "y1h = pd.get_dummies(df.label).to_numpy()\n",
    "m, n = X.shape\n",
    "c = y1h.shape[1]\n",
    "print(X.shape, Y.shape, y1h.shape)"
   ]
  },
  {
   "cell_type": "code",
   "execution_count": 42,
   "id": "d916900f-5f4e-413a-b6b4-78da78dafe5e",
   "metadata": {},
   "outputs": [],
   "source": [
    "def score(X, w, b):\n",
    "    return X.dot(w) + b\n",
    "def softmax(x):\n",
    "    e = np.exp(x)\n",
    "    return e/np.sum(e, axis=1, keepdims=True)\n",
    "def RELU(x):\n",
    "    return np.maximum(0, x)\n",
    "def ReLU_deriv(x):\n",
    "    return x > 0\n",
    "def lossSoftmax(softmaxScore, y1h):\n",
    "    a = np.multiply(softmaxScore, y1h)\n",
    "    b = np.sum(a,axis=1, keepdims=True)\n",
    "    c = -np.log(b)\n",
    "    return np.mean(c)\n",
    "def accuracyOfModel(score, Y):\n",
    "    return np.mean(np.argmax(score, axis=1) == Y)\n",
    "def convXF(x, f):\n",
    "    cln = []\n",
    "    m, n, _ = x.shape\n",
    "    o = f.shape[0]\n",
    "    for m in range(m):\n",
    "        tmp = []\n",
    "        for i in range(n-o+1):\n",
    "            for j in range(n-o+1):\n",
    "                tmp.append(x[m][i:i+o, j:j+o].flatten().dot(f.flatten().T))\n",
    "        cln.append(tmp)\n",
    "    return np.array(cln).reshape(m+1, n-o+1, n-o+1)\n",
    "\n",
    "def maxPool(z, o):\n",
    "    m, n, _ = z.shape\n",
    "    pl=[]\n",
    "    for m in range(m):\n",
    "        tmp = []\n",
    "        for i in range(0, n, o):\n",
    "            for j in range(0, n, o):\n",
    "                tmp.append(np.max(z[m][i:i+o, j:j+o]))\n",
    "        pl.append(tmp)\n",
    "    return np.array(pl).reshape(len(pl), int(n/o), int(n/o))\n",
    "def maxIndices(x):\n",
    "    a = np.argmax(x)\n",
    "    b = x.shape[1]\n",
    "    indices = (int(a/b), int(a%b))\n",
    "    return indices\n",
    "def backPropMaxPool(x, p, o):\n",
    "    z_t = np.zeros(x.shape)\n",
    "    m, n, _ = z_t.shape\n",
    "    for m in range(m):\n",
    "        for i in range(0, n, o):\n",
    "            for j in range(0, n, o):\n",
    "                maxI = maxIndices(x[m][i:i+o, j:j+o])\n",
    "                z_t[m][i+maxI[0], j+maxI[1]] = p[i,j]\n",
    "    return z_t"
   ]
  },
  {
   "cell_type": "markdown",
   "id": "2907acc7-3135-4d94-8b11-139370b486af",
   "metadata": {},
   "source": [
    "## CNN"
   ]
  },
  {
   "cell_type": "markdown",
   "id": "dd8c87bb-c30b-4b8d-b072-08f211971f71",
   "metadata": {},
   "source": [
    "### Forward Pass"
   ]
  },
  {
   "cell_type": "code",
   "execution_count": 4,
   "id": "03a9fc48-b90f-421e-8e03-594724926899",
   "metadata": {},
   "outputs": [],
   "source": [
    "#Conv layer\n",
    "x = X.reshape(X.shape[0], int(math.sqrt(X.shape[1])), int(math.sqrt(X.shape[1])))\n",
    "f = np.random.randn(3,3) * 0.5\n",
    "z1 = convXF(x, f)\n",
    "p1 = maxPool(z1,2)"
   ]
  },
  {
   "cell_type": "code",
   "execution_count": 8,
   "id": "e0302d0d-bea7-43d8-82ea-e6c4b5df35b2",
   "metadata": {},
   "outputs": [
    {
     "data": {
      "image/png": "[encoded data removed]",
      "text/plain": [
       "<Figure size 432x288 with 3 Axes>"
      ]
     },
     "metadata": {
      "needs_background": "light"
     },
     "output_type": "display_data"
    }
   ],
   "source": [
    "plt.subplot(1,3,1)\n",
    "plt.imshow(x[0],cmap='gray')\n",
    "plt.subplot(1,3,2)\n",
    "plt.imshow(z1[0],cmap='gray')\n",
    "plt.subplot(1,3,3)\n",
    "plt.imshow(p1[0],cmap='gray')\n",
    "plt.show()"
   ]
  },
  {
   "cell_type": "code",
   "execution_count": 9,
   "id": "0d1979a5-189b-4e11-8e44-d9a31330dbb1",
   "metadata": {},
   "outputs": [
    {
     "name": "stdout",
     "output_type": "stream",
     "text": [
      "5000 169 10\n"
     ]
    }
   ],
   "source": [
    "#Softmax Layer\n",
    "p1f = p1.reshape(p1.shape[0], p1.shape[1] **2)\n",
    "m, n = p1f.shape\n",
    "c = y1h.shape[1]\n",
    "print(m,n,c)"
   ]
  },
  {
   "cell_type": "code",
   "execution_count": 10,
   "id": "eb1d46b8-0305-45cc-97a9-0d389a91eeab",
   "metadata": {},
   "outputs": [],
   "source": [
    "w2 = 0.05 * np.random.randn(n, c)\n",
    "b2 = 0.05 * np.random.randn(1, c)"
   ]
  },
  {
   "cell_type": "code",
   "execution_count": 11,
   "id": "41f7c38f-eafb-4b93-918c-cd77b5f68de6",
   "metadata": {},
   "outputs": [],
   "source": [
    "z2 = score(p1f, w2, b2)\n",
    "a2 = softmax(z2)\n",
    "loss = lossSoftmax(a2, y1h)"
   ]
  },
  {
   "cell_type": "markdown",
   "id": "10b47a7c-5dfa-4cf7-9f43-ab5d627f57bc",
   "metadata": {},
   "source": [
    "### Backward Pass"
   ]
  },
  {
   "cell_type": "code",
   "execution_count": 12,
   "id": "d337d9f4-e67b-4d40-ba75-b22c32a02285",
   "metadata": {},
   "outputs": [],
   "source": [
    "#Gradients\n",
    "#Softmax Layer\n",
    "dz2 = (1/m) * (a2 - y1h)\n",
    "dw2 = p1f.T.dot(dz2)\n",
    "db2 = np.sum(dz2, axis=0, keepdims=True)\n",
    "\n",
    "# Conv Layer\n",
    "dp1 = dz2.dot(w2.T)\n",
    "dp1_b = backPropMaxPool(z1, dp1, 2)"
   ]
  },
  {
   "cell_type": "code",
   "execution_count": null,
   "id": "35bb7818-39cf-41d1-b796-818311d4f427",
   "metadata": {},
   "outputs": [],
   "source": []
  }
 ],
 "metadata": {
  "kernelspec": {
   "display_name": "Python 3 (ipykernel)",
   "language": "python",
   "name": "python3"
  },
  "language_info": {
   "codemirror_mode": {
    "name": "ipython",
    "version": 3
   },
   "file_extension": ".py",
   "mimetype": "text/x-python",
   "name": "python",
   "nbconvert_exporter": "python",
   "pygments_lexer": "ipython3",
   "version": "3.10.2"
  }
 },
 "nbformat": 4,
 "nbformat_minor": 5
}
