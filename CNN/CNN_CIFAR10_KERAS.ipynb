{
 "cells": [
  {
   "cell_type": "code",
   "execution_count": 2,
   "id": "3fc61b26-b685-4659-b3b9-79cde3ad6b1f",
   "metadata": {},
   "outputs": [
    {
     "name": "stdout",
     "output_type": "stream",
     "text": [
      "2.8.0\n",
      "Num GPUs Available:  1\n"
     ]
    }
   ],
   "source": [
    "import tensorflow as tf\n",
    "print(tf.__version__)\n",
    "print(\"Num GPUs Available: \", len(tf.config.list_physical_devices('GPU')))"
   ]
  },
  {
   "cell_type": "code",
   "execution_count": 3,
   "id": "56ae809d-5ee1-43ca-bf2e-62f1a3151d52",
   "metadata": {},
   "outputs": [],
   "source": [
    "import numpy as np\n",
    "import pandas as pd\n",
    "from tensorflow import keras\n",
    "from tensorflow.keras import models, layers\n",
    "from tensorflow.keras.models import Sequential\n",
    "from tensorflow.keras.layers import Activation, Dense\n",
    "from tensorflow.keras.optimizers import Adam\n",
    "from tensorflow.keras.metrics import CategoricalCrossentropy\n",
    "\n",
    "from tensorflow.keras.datasets import cifar10"
   ]
  },
  {
   "cell_type": "code",
   "execution_count": 4,
   "id": "f48b43d8-5db7-4a16-828e-fa6e1130b33f",
   "metadata": {},
   "outputs": [
    {
     "name": "stdout",
     "output_type": "stream",
     "text": [
      "(50000, 32, 32, 3) (50000, 1)\n"
     ]
    }
   ],
   "source": [
    "(x_train, y_train),(x_test, y_test) = cifar10.load_data()\n",
    "x_train = x_train/255\n",
    "x_test = x_test/255\n",
    "print(x_train.shape, y_train.shape)"
   ]
  },
  {
   "cell_type": "code",
   "execution_count": 12,
   "id": "46bbe27e-27a9-4e9e-9f95-b0fcd78e9175",
   "metadata": {},
   "outputs": [],
   "source": [
    "model = models.Sequential()"
   ]
  },
  {
   "cell_type": "code",
   "execution_count": 13,
   "id": "9ff1b3fb-678b-4179-a5f7-adf49103f818",
   "metadata": {},
   "outputs": [],
   "source": [
    "model.add(layers.Conv2D(64, (3,3), activation='relu', input_shape=(32, 32, 3)))\n",
    "model.add(layers.MaxPooling2D())\n",
    "model.add(layers.Conv2D(32, (3,3), activation='relu'))\n",
    "model.add(layers.MaxPooling2D())\n",
    "model.add(layers.Dropout(rate=0.1))\n",
    "model.add(layers.Flatten())\n",
    "model.add(layers.Dense(10, activation='softmax'))"
   ]
  },
  {
   "cell_type": "code",
   "execution_count": 14,
   "id": "4b392e35-3603-4574-9d4c-28082d574fc4",
   "metadata": {},
   "outputs": [],
   "source": [
    "model.compile(optimizer='adam',\n",
    "              loss=tf.keras.losses.SparseCategoricalCrossentropy(),\n",
    "              metrics=['accuracy'])"
   ]
  },
  {
   "cell_type": "code",
   "execution_count": 15,
   "id": "316de7fb-c242-404d-904b-94fae4b55332",
   "metadata": {},
   "outputs": [
    {
     "name": "stdout",
     "output_type": "stream",
     "text": [
      "Epoch 1/100\n",
      "1563/1563 [==============================] - 32s 20ms/step - loss: 1.5592 - accuracy: 0.4448\n",
      "Epoch 2/100\n",
      "1563/1563 [==============================] - 31s 20ms/step - loss: 1.2418 - accuracy: 0.5674\n",
      "Epoch 3/100\n",
      "1563/1563 [==============================] - 31s 20ms/step - loss: 1.1180 - accuracy: 0.6096\n",
      "Epoch 4/100\n",
      "1563/1563 [==============================] - 31s 20ms/step - loss: 1.0461 - accuracy: 0.6355\n",
      "Epoch 5/100\n",
      "1563/1563 [==============================] - 31s 20ms/step - loss: 1.0037 - accuracy: 0.6516\n",
      "Epoch 6/100\n",
      "1563/1563 [==============================] - 31s 20ms/step - loss: 0.9618 - accuracy: 0.6669\n",
      "Epoch 7/100\n",
      "1563/1563 [==============================] - 31s 20ms/step - loss: 0.9340 - accuracy: 0.6778\n",
      "Epoch 8/100\n",
      "1563/1563 [==============================] - 31s 20ms/step - loss: 0.9126 - accuracy: 0.6853\n",
      "Epoch 9/100\n",
      "1563/1563 [==============================] - 31s 20ms/step - loss: 0.8919 - accuracy: 0.6924\n",
      "Epoch 10/100\n",
      "1563/1563 [==============================] - 31s 20ms/step - loss: 0.8746 - accuracy: 0.6991\n",
      "Epoch 11/100\n",
      "1563/1563 [==============================] - 31s 20ms/step - loss: 0.8570 - accuracy: 0.7039\n",
      "Epoch 12/100\n",
      "1563/1563 [==============================] - 31s 20ms/step - loss: 0.8435 - accuracy: 0.7093\n",
      "Epoch 13/100\n",
      "1563/1563 [==============================] - 31s 20ms/step - loss: 0.8280 - accuracy: 0.7141\n",
      "Epoch 14/100\n",
      "1563/1563 [==============================] - 31s 20ms/step - loss: 0.8203 - accuracy: 0.7165\n",
      "Epoch 15/100\n",
      "1563/1563 [==============================] - 31s 20ms/step - loss: 0.8072 - accuracy: 0.7195\n",
      "Epoch 16/100\n",
      "1563/1563 [==============================] - 31s 20ms/step - loss: 0.7953 - accuracy: 0.7236\n",
      "Epoch 17/100\n",
      "1563/1563 [==============================] - 31s 20ms/step - loss: 0.7924 - accuracy: 0.7261\n",
      "Epoch 18/100\n",
      "1563/1563 [==============================] - 31s 20ms/step - loss: 0.7782 - accuracy: 0.7290\n",
      "Epoch 19/100\n",
      "1563/1563 [==============================] - 31s 20ms/step - loss: 0.7702 - accuracy: 0.7329\n",
      "Epoch 20/100\n",
      "1563/1563 [==============================] - 31s 20ms/step - loss: 0.7619 - accuracy: 0.7350\n",
      "Epoch 21/100\n",
      "1563/1563 [==============================] - 31s 20ms/step - loss: 0.7549 - accuracy: 0.7390\n",
      "Epoch 22/100\n",
      "1563/1563 [==============================] - 31s 20ms/step - loss: 0.7522 - accuracy: 0.7395\n",
      "Epoch 23/100\n",
      "1563/1563 [==============================] - 31s 20ms/step - loss: 0.7435 - accuracy: 0.7419\n",
      "Epoch 24/100\n",
      "1563/1563 [==============================] - 31s 20ms/step - loss: 0.7411 - accuracy: 0.7429\n",
      "Epoch 25/100\n",
      "1563/1563 [==============================] - 31s 20ms/step - loss: 0.7305 - accuracy: 0.7479\n",
      "Epoch 26/100\n",
      "1563/1563 [==============================] - 33s 21ms/step - loss: 0.7279 - accuracy: 0.7488\n",
      "Epoch 27/100\n",
      "1563/1563 [==============================] - 32s 20ms/step - loss: 0.7178 - accuracy: 0.7521\n",
      "Epoch 28/100\n",
      "1563/1563 [==============================] - 31s 20ms/step - loss: 0.7154 - accuracy: 0.7522\n",
      "Epoch 29/100\n",
      "1563/1563 [==============================] - 32s 20ms/step - loss: 0.7113 - accuracy: 0.7528\n",
      "Epoch 30/100\n",
      "1563/1563 [==============================] - 32s 20ms/step - loss: 0.7028 - accuracy: 0.7571\n",
      "Epoch 31/100\n",
      "1563/1563 [==============================] - 31s 20ms/step - loss: 0.7009 - accuracy: 0.7544\n",
      "Epoch 32/100\n",
      "1563/1563 [==============================] - 31s 20ms/step - loss: 0.6947 - accuracy: 0.7587\n",
      "Epoch 33/100\n",
      "1563/1563 [==============================] - 31s 20ms/step - loss: 0.6931 - accuracy: 0.7591\n",
      "Epoch 34/100\n",
      "1563/1563 [==============================] - 32s 20ms/step - loss: 0.6899 - accuracy: 0.7598\n",
      "Epoch 35/100\n",
      "1563/1563 [==============================] - 31s 20ms/step - loss: 0.6845 - accuracy: 0.7602\n",
      "Epoch 36/100\n",
      "1563/1563 [==============================] - 31s 20ms/step - loss: 0.6845 - accuracy: 0.7603\n",
      "Epoch 37/100\n",
      "1563/1563 [==============================] - 34s 22ms/step - loss: 0.6782 - accuracy: 0.7642\n",
      "Epoch 38/100\n",
      "1563/1563 [==============================] - 32s 20ms/step - loss: 0.6703 - accuracy: 0.7650\n",
      "Epoch 39/100\n",
      "1563/1563 [==============================] - 33s 21ms/step - loss: 0.6727 - accuracy: 0.7655\n",
      "Epoch 40/100\n",
      "1563/1563 [==============================] - 32s 20ms/step - loss: 0.6686 - accuracy: 0.7664\n",
      "Epoch 41/100\n",
      "1563/1563 [==============================] - 32s 20ms/step - loss: 0.6635 - accuracy: 0.7689\n",
      "Epoch 42/100\n",
      "1563/1563 [==============================] - 31s 20ms/step - loss: 0.6631 - accuracy: 0.7682\n",
      "Epoch 43/100\n",
      "1563/1563 [==============================] - 32s 20ms/step - loss: 0.6613 - accuracy: 0.7676\n",
      "Epoch 44/100\n",
      "1563/1563 [==============================] - 37s 23ms/step - loss: 0.6585 - accuracy: 0.7677\n",
      "Epoch 45/100\n",
      "1563/1563 [==============================] - 32s 21ms/step - loss: 0.6527 - accuracy: 0.7713\n",
      "Epoch 46/100\n",
      "1563/1563 [==============================] - 33s 21ms/step - loss: 0.6533 - accuracy: 0.7697\n",
      "Epoch 47/100\n",
      "1563/1563 [==============================] - 32s 21ms/step - loss: 0.6462 - accuracy: 0.7721\n",
      "Epoch 48/100\n",
      "1563/1563 [==============================] - 31s 20ms/step - loss: 0.6407 - accuracy: 0.7741\n",
      "Epoch 49/100\n",
      "1563/1563 [==============================] - 33s 21ms/step - loss: 0.6390 - accuracy: 0.7772\n",
      "Epoch 50/100\n",
      "1563/1563 [==============================] - 33s 21ms/step - loss: 0.6369 - accuracy: 0.7750\n",
      "Epoch 51/100\n",
      "1563/1563 [==============================] - 32s 21ms/step - loss: 0.6380 - accuracy: 0.7765\n",
      "Epoch 52/100\n",
      "1563/1563 [==============================] - 32s 20ms/step - loss: 0.6323 - accuracy: 0.7767\n",
      "Epoch 53/100\n",
      "1563/1563 [==============================] - 31s 20ms/step - loss: 0.6300 - accuracy: 0.7779\n",
      "Epoch 54/100\n",
      "1563/1563 [==============================] - 31s 20ms/step - loss: 0.6278 - accuracy: 0.7797\n",
      "Epoch 55/100\n",
      "1563/1563 [==============================] - 31s 20ms/step - loss: 0.6243 - accuracy: 0.7811\n",
      "Epoch 56/100\n",
      "1563/1563 [==============================] - 31s 20ms/step - loss: 0.6203 - accuracy: 0.7805\n",
      "Epoch 57/100\n",
      "1563/1563 [==============================] - 31s 20ms/step - loss: 0.6195 - accuracy: 0.7809\n",
      "Epoch 58/100\n",
      "1563/1563 [==============================] - 31s 20ms/step - loss: 0.6200 - accuracy: 0.7821\n",
      "Epoch 59/100\n",
      "1563/1563 [==============================] - 32s 20ms/step - loss: 0.6159 - accuracy: 0.7831\n",
      "Epoch 60/100\n",
      "1563/1563 [==============================] - 32s 20ms/step - loss: 0.6161 - accuracy: 0.7841\n",
      "Epoch 61/100\n",
      "1563/1563 [==============================] - 31s 20ms/step - loss: 0.6093 - accuracy: 0.7872\n",
      "Epoch 62/100\n",
      "1563/1563 [==============================] - 32s 20ms/step - loss: 0.6096 - accuracy: 0.7848\n",
      "Epoch 63/100\n",
      "1563/1563 [==============================] - 32s 20ms/step - loss: 0.6105 - accuracy: 0.7859\n",
      "Epoch 64/100\n",
      "1563/1563 [==============================] - 31s 20ms/step - loss: 0.6099 - accuracy: 0.7838\n",
      "Epoch 65/100\n",
      "1563/1563 [==============================] - 31s 20ms/step - loss: 0.6073 - accuracy: 0.7857\n",
      "Epoch 66/100\n",
      "1563/1563 [==============================] - 31s 20ms/step - loss: 0.6014 - accuracy: 0.7870\n",
      "Epoch 67/100\n",
      "1563/1563 [==============================] - 31s 20ms/step - loss: 0.6022 - accuracy: 0.7863\n",
      "Epoch 68/100\n",
      "1563/1563 [==============================] - 31s 20ms/step - loss: 0.5989 - accuracy: 0.7876\n",
      "Epoch 69/100\n",
      "1563/1563 [==============================] - 31s 20ms/step - loss: 0.5976 - accuracy: 0.7893\n",
      "Epoch 70/100\n",
      "1563/1563 [==============================] - 32s 20ms/step - loss: 0.5961 - accuracy: 0.7880\n",
      "Epoch 71/100\n",
      "1563/1563 [==============================] - 31s 20ms/step - loss: 0.5907 - accuracy: 0.7907\n",
      "Epoch 72/100\n",
      "1563/1563 [==============================] - 31s 20ms/step - loss: 0.5903 - accuracy: 0.7921\n",
      "Epoch 73/100\n",
      "1563/1563 [==============================] - 31s 20ms/step - loss: 0.5907 - accuracy: 0.7928\n",
      "Epoch 74/100\n",
      "1563/1563 [==============================] - 31s 20ms/step - loss: 0.5869 - accuracy: 0.7923\n",
      "Epoch 75/100\n",
      "1563/1563 [==============================] - 31s 20ms/step - loss: 0.5866 - accuracy: 0.7915\n",
      "Epoch 76/100\n",
      "1563/1563 [==============================] - 31s 20ms/step - loss: 0.5852 - accuracy: 0.7943\n",
      "Epoch 77/100\n",
      "1563/1563 [==============================] - 32s 20ms/step - loss: 0.5837 - accuracy: 0.7933\n",
      "Epoch 78/100\n",
      "1563/1563 [==============================] - 31s 20ms/step - loss: 0.5815 - accuracy: 0.7936\n",
      "Epoch 79/100\n",
      "1563/1563 [==============================] - 31s 20ms/step - loss: 0.5825 - accuracy: 0.7942\n",
      "Epoch 80/100\n",
      "1563/1563 [==============================] - 31s 20ms/step - loss: 0.5773 - accuracy: 0.7929\n",
      "Epoch 81/100\n",
      "1563/1563 [==============================] - 31s 20ms/step - loss: 0.5788 - accuracy: 0.7951\n",
      "Epoch 82/100\n",
      "1563/1563 [==============================] - 32s 20ms/step - loss: 0.5783 - accuracy: 0.7953\n",
      "Epoch 83/100\n",
      "1563/1563 [==============================] - 31s 20ms/step - loss: 0.5730 - accuracy: 0.7978\n",
      "Epoch 84/100\n",
      "1563/1563 [==============================] - 31s 20ms/step - loss: 0.5739 - accuracy: 0.7954\n",
      "Epoch 85/100\n",
      "1563/1563 [==============================] - 31s 20ms/step - loss: 0.5751 - accuracy: 0.7949\n",
      "Epoch 86/100\n",
      "1563/1563 [==============================] - 31s 20ms/step - loss: 0.5741 - accuracy: 0.7948\n",
      "Epoch 87/100\n",
      "1563/1563 [==============================] - 32s 20ms/step - loss: 0.5694 - accuracy: 0.8001\n",
      "Epoch 88/100\n",
      "1563/1563 [==============================] - 32s 20ms/step - loss: 0.5681 - accuracy: 0.7995\n",
      "Epoch 89/100\n",
      "1563/1563 [==============================] - 32s 20ms/step - loss: 0.5652 - accuracy: 0.8012\n",
      "Epoch 90/100\n",
      "1563/1563 [==============================] - 32s 20ms/step - loss: 0.5635 - accuracy: 0.7986\n",
      "Epoch 91/100\n",
      "1563/1563 [==============================] - 31s 20ms/step - loss: 0.5643 - accuracy: 0.7993\n",
      "Epoch 92/100\n",
      "1563/1563 [==============================] - 32s 20ms/step - loss: 0.5633 - accuracy: 0.7995\n",
      "Epoch 93/100\n",
      "1563/1563 [==============================] - 31s 20ms/step - loss: 0.5632 - accuracy: 0.7994\n",
      "Epoch 94/100\n",
      "1563/1563 [==============================] - 32s 20ms/step - loss: 0.5550 - accuracy: 0.8010\n",
      "Epoch 95/100\n",
      "1563/1563 [==============================] - 31s 20ms/step - loss: 0.5629 - accuracy: 0.7985\n",
      "Epoch 96/100\n",
      "1563/1563 [==============================] - 31s 20ms/step - loss: 0.5548 - accuracy: 0.8028\n",
      "Epoch 97/100\n",
      "1563/1563 [==============================] - 31s 20ms/step - loss: 0.5598 - accuracy: 0.8004\n",
      "Epoch 98/100\n",
      "1563/1563 [==============================] - 32s 20ms/step - loss: 0.5573 - accuracy: 0.8022\n",
      "Epoch 99/100\n",
      "1563/1563 [==============================] - 31s 20ms/step - loss: 0.5548 - accuracy: 0.8012\n",
      "Epoch 100/100\n",
      "1563/1563 [==============================] - 31s 20ms/step - loss: 0.5571 - accuracy: 0.8012\n"
     ]
    }
   ],
   "source": [
    "history = model.fit(x_train, y_train, epochs=100)"
   ]
  },
  {
   "cell_type": "code",
   "execution_count": 16,
   "id": "0d8f92ce-58d3-4918-8261-3ad6e1eb4470",
   "metadata": {},
   "outputs": [
    {
     "name": "stdout",
     "output_type": "stream",
     "text": [
      "313/313 [==============================] - 4s 12ms/step - loss: 0.9351 - accuracy: 0.7025\n"
     ]
    },
    {
     "data": {
      "text/plain": [
       "[0.9351171851158142, 0.7024999856948853]"
      ]
     },
     "execution_count": 16,
     "metadata": {},
     "output_type": "execute_result"
    }
   ],
   "source": [
    "model.evaluate(x_test, y_test)"
   ]
  },
  {
   "cell_type": "code",
   "execution_count": null,
   "id": "01f04b6e-65f6-4561-bbc9-c5b272bf1372",
   "metadata": {},
   "outputs": [],
   "source": []
  }
 ],
 "metadata": {
  "kernelspec": {
   "display_name": "Python 3 (ipykernel)",
   "language": "python",
   "name": "python3"
  },
  "language_info": {
   "codemirror_mode": {
    "name": "ipython",
    "version": 3
   },
   "file_extension": ".py",
   "mimetype": "text/x-python",
   "name": "python",
   "nbconvert_exporter": "python",
   "pygments_lexer": "ipython3",
   "version": "3.10.2"
  }
 },
 "nbformat": 4,
 "nbformat_minor": 5
}
