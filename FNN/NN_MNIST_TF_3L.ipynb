{
 "cells": [
  {
   "cell_type": "code",
   "execution_count": 1,
   "id": "b1e457bb-244d-456d-8dd9-8dc0999b6f8b",
   "metadata": {},
   "outputs": [],
   "source": [
    "import dllHelper\n",
    "dllHelper.loadDll(\"C:\\\\Program Files\\\\NVIDIA GPU Computing Toolkit\\\\CUDA\\\\v11.2\\\\bin\\\\*.dll\")"
   ]
  },
  {
   "cell_type": "code",
   "execution_count": 2,
   "id": "49f56675-2c89-4135-9474-db16073c6417",
   "metadata": {},
   "outputs": [
    {
     "name": "stdout",
     "output_type": "stream",
     "text": [
      "2.8.0\n",
      "Num GPUs Available:  1\n"
     ]
    }
   ],
   "source": [
    "import time\n",
    "import pandas as pd\n",
    "import numpy as np\n",
    "import matplotlib.pyplot as plt\n",
    "import tensorflow as tf\n",
    "print(tf.__version__)\n",
    "print(\"Num GPUs Available: \", len(tf.config.list_physical_devices('GPU')))"
   ]
  },
  {
   "cell_type": "markdown",
   "id": "1e7892a8-2298-4d55-898d-3c83d594ca02",
   "metadata": {},
   "source": [
    "## Loading Data"
   ]
  },
  {
   "cell_type": "code",
   "execution_count": 3,
   "id": "54b0d097-40d9-445f-af7e-6a16995bd927",
   "metadata": {},
   "outputs": [
    {
     "name": "stdout",
     "output_type": "stream",
     "text": [
      "(60000, 784) (60000,) (60000, 10) (10000, 784) (10000,)\n"
     ]
    }
   ],
   "source": [
    "(x_train, y_train), (x_test, y_test) = tf.keras.datasets.mnist.load_data()\n",
    "\n",
    "x_train = x_train.reshape(x_train.shape[0], x_train.shape[1]*x_train.shape[2])/255\n",
    "x_test = x_test.reshape(x_test.shape[0], x_test.shape[1]*x_test.shape[2])/255\n",
    "y_train_1h = pd.get_dummies(pd.DataFrame(y_train)[0]).to_numpy()\n",
    "print(x_train.shape, y_train.shape, y_train_1h.shape, x_test.shape, y_test.shape)"
   ]
  },
  {
   "cell_type": "code",
   "execution_count": 4,
   "id": "5892b0a5-c579-420b-a3e5-1b2e20354b14",
   "metadata": {},
   "outputs": [
    {
     "name": "stdout",
     "output_type": "stream",
     "text": [
      "60000 784 15 10\n"
     ]
    }
   ],
   "source": [
    "m, n = x_train.shape\n",
    "c = y_train_1h.shape[1]\n",
    "p = 15\n",
    "print(m, n, p, c)"
   ]
  },
  {
   "cell_type": "markdown",
   "id": "afe0d197-88db-44e5-b70a-cdf92d01ee8c",
   "metadata": {},
   "source": [
    "## Implementing Model in Tensorflow"
   ]
  },
  {
   "cell_type": "code",
   "execution_count": 5,
   "id": "e0289bd3-400c-4e14-b273-8722c23efd7d",
   "metadata": {},
   "outputs": [],
   "source": [
    "def crossEntropySoftmax(softmaxScore, y1h):\n",
    "    a = tf.multiply(softmaxScore, y1h)\n",
    "    b = tf.reduce_sum(a,axis=1, keepdims=True)\n",
    "    c = -tf.math.log(b)\n",
    "    return c\n",
    "\n",
    "def adamOptimizer(dxs, first_moments, second_moments, t):\n",
    "    dxc = []\n",
    "    fm = []\n",
    "    sm = []\n",
    "    for dx, first_moment, second_moment in zip(dxs, first_moments, second_moments):\n",
    "        first_moment = 0.9 * first_moment + (1-0.9) * dx\n",
    "        second_moment = 0.999 * second_moment + (1-0.999) * dx * dx\n",
    "        first_unbias = first_moment / (1 - 0.9 ** t)\n",
    "        second_unbias = second_moment/ (1 - 0.999 ** t)\n",
    "        dxc.append(first_unbias / (tf.sqrt(second_unbias) + 1e-7))\n",
    "        fm.append(first_moment)\n",
    "        sm.append(second_moment)\n",
    "    return dxc, fm, sm\n",
    "\n",
    "def batchNorm(x):\n",
    "    mean = tf.reduce_mean(x, axis=0)\n",
    "    var = tf.math.reduce_variance(x, axis=0)\n",
    "    return (x - mean) / tf.math.sqrt(var+1e-7)"
   ]
  },
  {
   "cell_type": "code",
   "execution_count": 6,
   "id": "298af75d-da43-4254-a6e7-75570fe297f0",
   "metadata": {},
   "outputs": [],
   "source": [
    "x = tf.constant (x_train, dtype=tf.float32)\n",
    "y = tf.constant(y_train_1h, dtype=tf.float32)"
   ]
  },
  {
   "cell_type": "code",
   "execution_count": 7,
   "id": "24144328-5433-41b0-863b-8b18f8cbb684",
   "metadata": {},
   "outputs": [],
   "source": [
    "metric = tf.metrics.Accuracy()\n",
    "initializer = tf.initializers.GlorotUniform()\n",
    "w1 = tf.Variable(initializer(shape=(n,p)), dtype=tf.float32)\n",
    "b1 = tf.Variable(initializer(shape=(1,p)), dtype=tf.float32)\n",
    "w2 = tf.Variable(initializer(shape=(p,c)), dtype=tf.float32)\n",
    "b2 = tf.Variable(initializer(shape=(1,c)), dtype=tf.float32)\n",
    "\n",
    "gm1 = tf.Variable(tf.ones(shape=(p,)), dtype=tf.float32)\n",
    "bt1 = tf.Variable(tf.zeros(shape=(p,)), dtype=tf.float32)\n",
    "gm2 = tf.Variable(tf.ones(shape=(c,)), dtype=tf.float32)\n",
    "bt2 = tf.Variable(tf.zeros(shape=(c,)), dtype=tf.float32)"
   ]
  },
  {
   "cell_type": "code",
   "execution_count": 8,
   "id": "c1eb757e-566a-4691-a72d-b0275b6c0caa",
   "metadata": {},
   "outputs": [
    {
     "name": "stdout",
     "output_type": "stream",
     "text": [
      "0  Loss: 2.7511532  Accuracy: 0.0941\n",
      "100  Loss: 0.30720502  Accuracy: 0.87422246\n",
      "200  Loss: 0.19470412  Accuracy: 0.9082692\n",
      "300  Loss: 0.15091605  Accuracy: 0.9245923\n",
      "400  Loss: 0.12581694  Accuracy: 0.9349398\n",
      "500  Loss: 0.108954564  Accuracy: 0.94222236\n",
      "600  Loss: 0.09706501  Accuracy: 0.9477004\n",
      "700  Loss: 0.08761958  Accuracy: 0.9520266\n",
      "800  Loss: 0.0819681  Accuracy: 0.9555174\n",
      "900  Loss: 0.07562461  Accuracy: 0.9584308\n",
      "1000  Loss: 0.07155228  Accuracy: 0.9608647\n",
      "Complete!!!  Loss: 0.07155228  Accuracy: 0.9608647\n",
      "Time Elapsed: 1.5076059897740681 Minutes\n"
     ]
    }
   ],
   "source": [
    "lr = 0.01\n",
    "itr = 1000\n",
    "start_time = time.time()\n",
    "prm = np.empty((1,3))\n",
    "\n",
    "fm = [0,0,0,0,0,0,0,0]\n",
    "sm = [0,0,0,0,0,0,0,0]\n",
    "\n",
    "for i in range(itr+1):\n",
    "    with tf.GradientTape() as g:\n",
    "        g.watch([w1, b1, gm1, bt1, w2, b2, gm2, bt2])\n",
    "        # Forward Pass\n",
    "        z1 = tf.matmul(x, w1) + b1\n",
    "        z1_norm = batchNorm(z1)\n",
    "        z1_out = z1_norm * gm1 + bt1\n",
    "        a1 = tf.nn.relu(z1_out)\n",
    "        \n",
    "        z2 = tf.matmul(a1, w2) + b2\n",
    "        z2_norm = batchNorm(z2)\n",
    "        z2_out = z2_norm * gm2 + bt2\n",
    "        a2 = tf.nn.softmax(z2_out)\n",
    "        \n",
    "        ce = crossEntropySoftmax(a2, y)\n",
    "        loss = tf.reduce_mean(ce)\n",
    "        dw1, db1, dgm1, dbt1, dw2, db2, dgm2, dbt2 = g.gradient(loss, [w1, b1, gm1, bt1, w2, b2, gm2, bt2])\n",
    "        \n",
    "        #Adam Optimizer\n",
    "        \n",
    "        (dw1, db1, dgm1, dbt1, dw2, db2, dgm2, dbt2) , fm, sm = adamOptimizer([dw1, db1, dgm1, dbt1, dw2, db2, dgm2, dbt2], fm, sm, i+1)\n",
    "        \n",
    "        #Gradient Update\n",
    "        w1.assign_sub(lr*dw1)\n",
    "        b1.assign_sub(lr*db1)\n",
    "        gm1.assign_sub(lr*dgm1)\n",
    "        bt1.assign_sub(lr*dbt1)\n",
    "        w2.assign_sub(lr*dw2)\n",
    "        b2.assign_sub(lr*db2)\n",
    "        gm2.assign_sub(lr*dgm2)\n",
    "        bt2.assign_sub(lr*dbt2)\n",
    "        \n",
    "        #Accuracy\n",
    "        metric.update_state(tf.argmax(y, 1), tf.argmax(a2,1))\n",
    "        acc = metric.result().numpy()\n",
    "        prm = np.append(prm, [[i,loss.numpy(), acc]], axis=0)\n",
    "        \n",
    "        #Printing Parameters\n",
    "        if i%(itr/10) ==0:\n",
    "            print(i, \" Loss:\",loss.numpy(), \" Accuracy:\",acc)\n",
    "end_time = time.time()\n",
    "print(\"Complete!!!\", \" Loss:\",loss.numpy(), \" Accuracy:\",acc)\n",
    "print(\"Time Elapsed:\" , (end_time - start_time)/60, \"Minutes\")"
   ]
  },
  {
   "cell_type": "code",
   "execution_count": 9,
   "id": "0168a3fa-980d-4f7d-9333-e59d4558000f",
   "metadata": {},
   "outputs": [
    {
     "data": {
      "image/png": "[encoded data removed]",
      "text/plain": [
       "<Figure size 1800x360 with 2 Axes>"
      ]
     },
     "metadata": {
      "needs_background": "light"
     },
     "output_type": "display_data"
    }
   ],
   "source": [
    "plt.figure(figsize=(25, 5))\n",
    "plt.subplot(1,2,1)\n",
    "plt.title(\"Loss\")\n",
    "plt.plot(prm[1:,0], prm[1:,1])\n",
    "plt.subplot(1,2,2)\n",
    "plt.title(\"Accuracy\")\n",
    "plt.plot(prm[1:,0], prm[1:,2])\n",
    "plt.show()"
   ]
  },
  {
   "cell_type": "markdown",
   "id": "98bd62ed-2272-4d7b-a09d-bb8f4a4ced41",
   "metadata": {},
   "source": [
    "## Test Accuracy"
   ]
  },
  {
   "cell_type": "code",
   "execution_count": 10,
   "id": "df238b46-9cff-426e-a6ff-b0f6c84de25e",
   "metadata": {},
   "outputs": [
    {
     "data": {
      "text/plain": [
       "('Test Accuracy:', 96.08612656593323)"
      ]
     },
     "execution_count": 10,
     "metadata": {},
     "output_type": "execute_result"
    }
   ],
   "source": [
    "def testAcuracy(x, y):\n",
    "    z1 = tf.matmul(x, w1) + b1\n",
    "    z1_norm = batchNorm(z1)\n",
    "    z1_out = z1_norm * gm1 + bt1\n",
    "    a1 = tf.nn.relu(z1_out)\n",
    "\n",
    "    z2 = tf.matmul(a1, w2) + b2\n",
    "    z2_norm = batchNorm(z2)\n",
    "    z2_out = z2_norm * gm2 + bt2\n",
    "    a2 = tf.nn.softmax(z2_out)\n",
    "    \n",
    "    metric.update_state(tf.argmax(y, 1), tf.argmax(a2,1))\n",
    "    acc = metric.result().numpy()\n",
    "    return acc\n",
    "\"Test Accuracy:\", testAcuracy(tf.constant(x_test, tf.float32), pd.get_dummies(pd.DataFrame(y_test)[0]).to_numpy()) * 100"
   ]
  },
  {
   "cell_type": "code",
   "execution_count": null,
   "id": "1159f84d-286f-4838-8268-c902e930abeb",
   "metadata": {},
   "outputs": [],
   "source": []
  }
 ],
 "metadata": {
  "kernelspec": {
   "display_name": "Python 3 (ipykernel)",
   "language": "python",
   "name": "python3"
  },
  "language_info": {
   "codemirror_mode": {
    "name": "ipython",
    "version": 3
   },
   "file_extension": ".py",
   "mimetype": "text/x-python",
   "name": "python",
   "nbconvert_exporter": "python",
   "pygments_lexer": "ipython3",
   "version": "3.10.2"
  }
 },
 "nbformat": 4,
 "nbformat_minor": 5
}
