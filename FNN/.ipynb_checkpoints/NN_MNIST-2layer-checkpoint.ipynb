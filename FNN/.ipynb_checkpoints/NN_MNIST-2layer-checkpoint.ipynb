{
 "cells": [
  {
   "cell_type": "code",
   "execution_count": 10,
   "id": "866f9121-b43a-4934-b571-599dd19e143b",
   "metadata": {},
   "outputs": [],
   "source": [
    "import pandas as pd\n",
    "import numpy as np\n",
    "import matplotlib.pyplot as plt"
   ]
  },
  {
   "cell_type": "code",
   "execution_count": 11,
   "id": "e8de670c-87ff-4425-aa02-6577535d714e",
   "metadata": {},
   "outputs": [],
   "source": [
    "df = pd.read_csv(\"mnist/mnist_train.csv\")"
   ]
  },
  {
   "cell_type": "code",
   "execution_count": 12,
   "id": "8e181b68-7eb3-4ee0-addf-cb173bdf5ae8",
   "metadata": {},
   "outputs": [
    {
     "name": "stdout",
     "output_type": "stream",
     "text": [
      "(60000, 10) (60000, 784)\n"
     ]
    }
   ],
   "source": [
    "data = df.to_numpy()\n",
    "#one hot encoding of labels 0-9\n",
    "labels = pd.get_dummies(df.label).to_numpy()\n",
    "images = data[:,1:] / 255\n",
    "print(labels.shape, images.shape)"
   ]
  },
  {
   "cell_type": "code",
   "execution_count": 13,
   "id": "3f2503a9-9f1f-4c33-b0fb-4a73298022b5",
   "metadata": {},
   "outputs": [
    {
     "data": {
      "image/png": "[encoded data removed]",
      "text/plain": [
       "<Figure size 432x288 with 1 Axes>"
      ]
     },
     "metadata": {
      "needs_background": "light"
     },
     "output_type": "display_data"
    }
   ],
   "source": [
    "plt.imshow(images[0].reshape(28,28),'gray')\n",
    "plt.title(\"Label : \" + str(labels[0]))\n",
    "plt.show()"
   ]
  },
  {
   "cell_type": "code",
   "execution_count": 14,
   "id": "bfb72440-7778-4b6f-9bf9-f28d7b4c0505",
   "metadata": {},
   "outputs": [],
   "source": [
    "#Softmax Activation Function\n",
    "'''\n",
    "We exponentiate the values to handle negative\n",
    "Then we take probability or Normalize\n",
    "clip the values to avoid divide by zero error. 1e-7 is close to zero\n",
    "'''\n",
    "def softmax(x):\n",
    "    e = np.exp(x)\n",
    "    return e/np.sum(e, axis=1, keepdims=True)"
   ]
  },
  {
   "cell_type": "code",
   "execution_count": 15,
   "id": "75ef895e-f7bc-48ff-983f-82f84a885bf5",
   "metadata": {},
   "outputs": [],
   "source": [
    "# Loss Function\n",
    "'''\n",
    "Idea is to take -log\n",
    "'''\n",
    "def lossSoftmax(softmaxScore):\n",
    "    a = np.multiply(softmaxScore,labels)\n",
    "    b = np.sum(a,axis=1, keepdims=True)\n",
    "    c = -np.log(b)\n",
    "    return np.mean(c)"
   ]
  },
  {
   "cell_type": "code",
   "execution_count": 16,
   "id": "2e52d211-8c88-426e-a06c-cef19c5e10ca",
   "metadata": {},
   "outputs": [],
   "source": [
    "#Accuracy\n",
    "def accuracyOfModel():\n",
    "    return np.mean(np.argmax(score, axis=1) == df.label.to_numpy())"
   ]
  },
  {
   "cell_type": "markdown",
   "id": "f0d37168-7472-4964-a680-70f3d227e776",
   "metadata": {},
   "source": [
    "## Gradient Decent"
   ]
  },
  {
   "cell_type": "code",
   "execution_count": 17,
   "id": "c77bf6db-cffa-4621-8ba7-f2bf9ab46801",
   "metadata": {},
   "outputs": [],
   "source": [
    "'''\n",
    "f = wx+b\n",
    "Weights and Bias initialization\n",
    "multiply by 0.05 exp of minus(-) gives almost identical results\n",
    "'''\n",
    "lr = 0.01\n",
    "m = images.shape[0]\n",
    "w = np.random.randn(images.shape[1],labels.shape[1]) * 0.05\n",
    "b = np.random.randn(1,labels.shape[1]) * 0.05"
   ]
  },
  {
   "cell_type": "code",
   "execution_count": null,
   "id": "fa65c2ca-baec-4c1d-a68b-0bf1fdde04f0",
   "metadata": {},
   "outputs": [
    {
     "name": "stdout",
     "output_type": "stream",
     "text": [
      "Iteration : 0 ||||| Accuracy : 0.07576666666666666 ||||| Loss : 2.453512840298736\n",
      "----------------------------------------------------------------\n"
     ]
    }
   ],
   "source": [
    "'''\n",
    "Gradient Decent of Weights and Biases to increment current best known W and B\n",
    "'''\n",
    "for i in range(1000):\n",
    "    #forward\n",
    "    score = images.dot(w) + b\n",
    "    softmaxScore = softmax(score)\n",
    "    loss = lossSoftmax(softmaxScore)\n",
    "    \n",
    "    #Back prop Gradient\n",
    "    dz = softmaxScore - labels\n",
    "    dw = (1/m) * (images.T.dot(dz))\n",
    "    db = (1/m) * np.sum(dz, axis=0, keepdims=True)\n",
    "    \n",
    "    #Updating weights and biases from back prop gradient\n",
    "    w = w - lr * dw\n",
    "    b = b - lr * db\n",
    "    \n",
    "    score = images.dot(w) + b\n",
    "    softmaxScore = softmax(score)\n",
    "    loss = lossSoftmax(softmaxScore)\n",
    "    if i%100 == 0:\n",
    "        print(\"Iteration :\",i,\"||||| Accuracy :\", accuracyOfModel(), \"||||| Loss :\", loss)\n",
    "        print(\"----------------------------------------------------------------\")\n",
    "print(\"Completed\",\"||||| Accuracy :\", accuracyOfModel(), \"||||| Loss :\", loss)"
   ]
  },
  {
   "cell_type": "code",
   "execution_count": null,
   "id": "ab3422aa-aeae-45c0-a8c1-b2c56417775a",
   "metadata": {},
   "outputs": [],
   "source": []
  }
 ],
 "metadata": {
  "kernelspec": {
   "display_name": "Python 3 (ipykernel)",
   "language": "python",
   "name": "python3"
  },
  "language_info": {
   "codemirror_mode": {
    "name": "ipython",
    "version": 3
   },
   "file_extension": ".py",
   "mimetype": "text/x-python",
   "name": "python",
   "nbconvert_exporter": "python",
   "pygments_lexer": "ipython3",
   "version": "3.10.2"
  }
 },
 "nbformat": 4,
 "nbformat_minor": 5
}
