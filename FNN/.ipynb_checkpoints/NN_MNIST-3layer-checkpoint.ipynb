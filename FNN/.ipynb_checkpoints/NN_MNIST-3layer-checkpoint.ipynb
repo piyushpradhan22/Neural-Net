{
 "cells": [
  {
   "cell_type": "code",
   "execution_count": 1,
   "id": "866f9121-b43a-4934-b571-599dd19e143b",
   "metadata": {},
   "outputs": [],
   "source": [
    "import pandas as pd\n",
    "import numpy as np\n",
    "import matplotlib.pyplot as plt"
   ]
  },
  {
   "cell_type": "code",
   "execution_count": 2,
   "id": "0c39d9e9-6e8d-43e3-814b-4f01cb1496cf",
   "metadata": {},
   "outputs": [
    {
     "name": "stdout",
     "output_type": "stream",
     "text": [
      "(60000, 784) (60000,) (60000, 10)\n"
     ]
    }
   ],
   "source": [
    "df = pd.read_csv(\"mnist/mnist_train.csv\")\n",
    "data = df.to_numpy()\n",
    "X = data[:,1:] / 255\n",
    "Y = df.label.to_numpy()\n",
    "y1h = pd.get_dummies(df.label).to_numpy()\n",
    "m, n = X.shape\n",
    "c = y1h.shape[1]\n",
    "print(X.shape, Y.shape, y1h.shape)"
   ]
  },
  {
   "cell_type": "code",
   "execution_count": 3,
   "id": "d916900f-5f4e-413a-b6b4-78da78dafe5e",
   "metadata": {},
   "outputs": [],
   "source": [
    "def score(X, w, b):\n",
    "    return X.dot(w) + b\n",
    "def softmax(x):\n",
    "    e = np.exp(x)\n",
    "    return e/np.sum(e, axis=1, keepdims=True)\n",
    "def RELU(x):\n",
    "    return np.maximum(0, x)\n",
    "def ReLU_deriv(x):\n",
    "    return x > 0\n",
    "def lossSoftmax(softmaxScore, y1h):\n",
    "    a = np.multiply(softmaxScore, y1h)\n",
    "    b = np.sum(a,axis=1, keepdims=True)\n",
    "    c = -np.log(b)\n",
    "    return np.mean(c)\n",
    "def accuracyOfModel(score, Y):\n",
    "    return np.mean(np.argmax(score, axis=1) == Y)"
   ]
  },
  {
   "cell_type": "markdown",
   "id": "2907acc7-3135-4d94-8b11-139370b486af",
   "metadata": {},
   "source": [
    "## 3 Layer NN"
   ]
  },
  {
   "cell_type": "code",
   "execution_count": 4,
   "id": "72a73495-c60f-4586-b2f8-ec6ce17fa764",
   "metadata": {},
   "outputs": [],
   "source": [
    "p = 15\n",
    "w1 = 0.05 * np.random.randn(n, p)\n",
    "b1 = 0.05 * np.random.randn(1, p)\n",
    "w2 = 0.05 * np.random.randn(p, c)\n",
    "b2 = 0.05 * np.random.randn(1, c)"
   ]
  },
  {
   "cell_type": "code",
   "execution_count": 5,
   "id": "d8400003-bdf2-48dd-8bc7-ba040fa1bf57",
   "metadata": {},
   "outputs": [
    {
     "name": "stdout",
     "output_type": "stream",
     "text": [
      "Iteration : 0 ||||| Accuracy : 0.06613333333333334 ||||| Loss : 2.304744035069048\n",
      "----------------------------------------------------------------\n",
      "Iteration : 100 ||||| Accuracy : 0.7680333333333333 ||||| Loss : 0.9194722973177837\n",
      "----------------------------------------------------------------\n",
      "Iteration : 200 ||||| Accuracy : 0.85385 ||||| Loss : 0.5290548923618306\n",
      "----------------------------------------------------------------\n",
      "Iteration : 300 ||||| Accuracy : 0.8808833333333334 ||||| Loss : 0.42873283566644993\n",
      "----------------------------------------------------------------\n",
      "Iteration : 400 ||||| Accuracy : 0.8935333333333333 ||||| Loss : 0.3815957022195976\n",
      "----------------------------------------------------------------\n",
      "Iteration : 500 ||||| Accuracy : 0.9 ||||| Loss : 0.35425640045297657\n",
      "----------------------------------------------------------------\n",
      "Iteration : 600 ||||| Accuracy : 0.9041833333333333 ||||| Loss : 0.33610928989589217\n",
      "----------------------------------------------------------------\n",
      "Iteration : 700 ||||| Accuracy : 0.908 ||||| Loss : 0.3228072511160013\n",
      "----------------------------------------------------------------\n",
      "Iteration : 800 ||||| Accuracy : 0.9106333333333333 ||||| Loss : 0.31232356968851177\n",
      "----------------------------------------------------------------\n",
      "Iteration : 900 ||||| Accuracy : 0.9130833333333334 ||||| Loss : 0.3035338145355287\n",
      "----------------------------------------------------------------\n",
      "Completed ||||| Accuracy : 0.9156833333333333 ||||| Loss : 0.29599667327763735\n"
     ]
    }
   ],
   "source": [
    "lr = 0.1\n",
    "\n",
    "for i in range(0, 1000):\n",
    "    \n",
    "    #forward\n",
    "    z1 = score(X, w1, b1)\n",
    "    a1 = RELU(z1)\n",
    "    z2 = score(a1, w2, b2)\n",
    "    a2 = softmax(z2)\n",
    "    loss = lossSoftmax(a2, y1h)\n",
    "    \n",
    "    #Gradients\n",
    "    dz2 = (a2 - y1h)\n",
    "    dw2 = (1/m) * (a1.T.dot(dz2))\n",
    "    db2 = (1/m) * (np.sum(dz2, axis=0, keepdims=True))\n",
    "    \n",
    "    dz1 = dz2.dot(w2.T) * ReLU_deriv(z1)\n",
    "    dw1 = (1/m) * (X.T.dot(dz1))\n",
    "    db1 = (1/m) * (np.sum(dz1, axis=0, keepdims=True))\n",
    "    \n",
    "    # W and B update\n",
    "    w1 = w1 - lr*dw1\n",
    "    b1 = b1 - lr*db1\n",
    "    w2 = w2 - lr*dw2\n",
    "    b2 = b2 - lr*db2\n",
    "    \n",
    "    if i%100 == 0:\n",
    "        print(\"Iteration :\",i,\"||||| Accuracy :\", accuracyOfModel(a2, Y), \"||||| Loss :\", loss)\n",
    "        print(\"----------------------------------------------------------------\")\n",
    "print(\"Completed\",\"||||| Accuracy :\", accuracyOfModel(a2, Y), \"||||| Loss :\", loss)"
   ]
  },
  {
   "cell_type": "code",
   "execution_count": null,
   "id": "33bc1b30-da81-44fa-b690-9deabca3672f",
   "metadata": {},
   "outputs": [],
   "source": []
  }
 ],
 "metadata": {
  "kernelspec": {
   "display_name": "Python 3 (ipykernel)",
   "language": "python",
   "name": "python3"
  },
  "language_info": {
   "codemirror_mode": {
    "name": "ipython",
    "version": 3
   },
   "file_extension": ".py",
   "mimetype": "text/x-python",
   "name": "python",
   "nbconvert_exporter": "python",
   "pygments_lexer": "ipython3",
   "version": "3.10.2"
  }
 },
 "nbformat": 4,
 "nbformat_minor": 5
}
