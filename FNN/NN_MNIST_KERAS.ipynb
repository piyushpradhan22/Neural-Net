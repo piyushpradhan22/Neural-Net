{
 "cells": [
  {
   "cell_type": "code",
   "execution_count": 1,
   "id": "6e0214f4-ea65-4331-a9c0-1ff41cddcb88",
   "metadata": {},
   "outputs": [],
   "source": [
    "import dllHelper\n",
    "dllHelper.loadDll(\"C:\\\\Program Files\\\\NVIDIA GPU Computing Toolkit\\\\CUDA\\\\v11.2\\\\bin\\\\*.dll\")"
   ]
  },
  {
   "cell_type": "code",
   "execution_count": 2,
   "id": "254174b1-402e-499b-baaf-30a3f41e71ad",
   "metadata": {},
   "outputs": [
    {
     "name": "stdout",
     "output_type": "stream",
     "text": [
      "2.8.0\n",
      "Num GPUs Available:  1\n"
     ]
    }
   ],
   "source": [
    "import tensorflow as tf\n",
    "print(tf.__version__)\n",
    "print(\"Num GPUs Available: \", len(tf.config.list_physical_devices('GPU')))"
   ]
  },
  {
   "cell_type": "code",
   "execution_count": 3,
   "id": "0cfd8cc1-53f9-492e-885c-6c3cc7fdf723",
   "metadata": {},
   "outputs": [],
   "source": [
    "import numpy as np\n",
    "import pandas as pd\n",
    "from tensorflow import keras\n",
    "from tensorflow.keras.models import Sequential\n",
    "from tensorflow.keras.layers import Activation, Dense\n",
    "from tensorflow.keras.optimizers import Adam\n",
    "from tensorflow.keras.metrics import CategoricalCrossentropy\n",
    "\n",
    "from tensorflow.keras.datasets import mnist "
   ]
  },
  {
   "cell_type": "code",
   "execution_count": 4,
   "id": "da27ab58-4cf2-4cb6-a914-27f21bd41c3a",
   "metadata": {},
   "outputs": [],
   "source": [
    "(x_train, y_train),(x_test, y_test) = mnist.load_data()"
   ]
  },
  {
   "cell_type": "code",
   "execution_count": 15,
   "id": "0c6e2ca1-b513-488c-8dc7-5f97429d13cc",
   "metadata": {},
   "outputs": [],
   "source": [
    "model = tf.keras.Sequential()"
   ]
  },
  {
   "cell_type": "code",
   "execution_count": 16,
   "id": "dc6fe9da-039f-400c-8270-5231a8950eea",
   "metadata": {},
   "outputs": [],
   "source": [
    "model.add(tf.keras.layers.Flatten())\n",
    "model.add(tf.keras.layers.Dense(units=128))\n",
    "model.add(tf.keras.layers.BatchNormalization())\n",
    "model.add(tf.keras.layers.Activation(activation=tf.nn.relu))\n",
    "model.add(tf.keras.layers.Dropout(rate = 0.1))\n",
    "model.add(tf.keras.layers.Dense(units=15))\n",
    "model.add(tf.keras.layers.BatchNormalization())\n",
    "model.add(tf.keras.layers.Activation(activation=tf.nn.relu))\n",
    "model.add(tf.keras.layers.Dropout(rate = 0.1))\n",
    "model.add(tf.keras.layers.Dense(units=10))\n",
    "model.add(tf.keras.layers.BatchNormalization())\n",
    "model.add(tf.keras.layers.Activation(activation=tf.nn.softmax))"
   ]
  },
  {
   "cell_type": "code",
   "execution_count": 17,
   "id": "90a31f16-3f64-4213-af6b-003f0cd49439",
   "metadata": {},
   "outputs": [],
   "source": [
    "model.compile(optimizer=Adam(learning_rate=1e-4),loss = 'sparse_categorical_crossentropy', metrics=['accuracy'])"
   ]
  },
  {
   "cell_type": "code",
   "execution_count": 18,
   "id": "cef932cd-58f6-42b2-be3a-ef3f908b30a9",
   "metadata": {},
   "outputs": [
    {
     "name": "stdout",
     "output_type": "stream",
     "text": [
      "Epoch 1/100\n",
      "60/60 [==============================] - 2s 14ms/step - loss: 2.0357 - accuracy: 0.3170\n",
      "Epoch 2/100\n",
      "60/60 [==============================] - 1s 14ms/step - loss: 1.4094 - accuracy: 0.6107\n",
      "Epoch 3/100\n",
      "60/60 [==============================] - 1s 14ms/step - loss: 1.2167 - accuracy: 0.7124\n",
      "Epoch 4/100\n",
      "60/60 [==============================] - 1s 14ms/step - loss: 1.1086 - accuracy: 0.7622\n",
      "Epoch 5/100\n",
      "60/60 [==============================] - 1s 14ms/step - loss: 1.0317 - accuracy: 0.7960\n",
      "Epoch 6/100\n",
      "60/60 [==============================] - 1s 14ms/step - loss: 0.9752 - accuracy: 0.8155\n",
      "Epoch 7/100\n",
      "60/60 [==============================] - 1s 14ms/step - loss: 0.9236 - accuracy: 0.8335\n",
      "Epoch 8/100\n",
      "60/60 [==============================] - 1s 14ms/step - loss: 0.8791 - accuracy: 0.8481\n",
      "Epoch 9/100\n",
      "60/60 [==============================] - 1s 14ms/step - loss: 0.8430 - accuracy: 0.8566\n",
      "Epoch 10/100\n",
      "60/60 [==============================] - 1s 14ms/step - loss: 0.8107 - accuracy: 0.8663\n",
      "Epoch 11/100\n",
      "60/60 [==============================] - 1s 14ms/step - loss: 0.7822 - accuracy: 0.8751\n",
      "Epoch 12/100\n",
      "60/60 [==============================] - 1s 14ms/step - loss: 0.7557 - accuracy: 0.8818\n",
      "Epoch 13/100\n",
      "60/60 [==============================] - 1s 14ms/step - loss: 0.7348 - accuracy: 0.8857\n",
      "Epoch 14/100\n",
      "60/60 [==============================] - 1s 14ms/step - loss: 0.7130 - accuracy: 0.8909\n",
      "Epoch 15/100\n",
      "60/60 [==============================] - 1s 14ms/step - loss: 0.6930 - accuracy: 0.8958\n",
      "Epoch 16/100\n",
      "60/60 [==============================] - 1s 15ms/step - loss: 0.6760 - accuracy: 0.8983\n",
      "Epoch 17/100\n",
      "60/60 [==============================] - 1s 15ms/step - loss: 0.6569 - accuracy: 0.9025\n",
      "Epoch 18/100\n",
      "60/60 [==============================] - 1s 14ms/step - loss: 0.6446 - accuracy: 0.9060\n",
      "Epoch 19/100\n",
      "60/60 [==============================] - 1s 14ms/step - loss: 0.6305 - accuracy: 0.9063\n",
      "Epoch 20/100\n",
      "60/60 [==============================] - 1s 14ms/step - loss: 0.6167 - accuracy: 0.9094\n",
      "Epoch 21/100\n",
      "60/60 [==============================] - 1s 14ms/step - loss: 0.6015 - accuracy: 0.9133\n",
      "Epoch 22/100\n",
      "60/60 [==============================] - 1s 14ms/step - loss: 0.5941 - accuracy: 0.9144\n",
      "Epoch 23/100\n",
      "60/60 [==============================] - 1s 15ms/step - loss: 0.5785 - accuracy: 0.9187\n",
      "Epoch 24/100\n",
      "60/60 [==============================] - 1s 15ms/step - loss: 0.5715 - accuracy: 0.9182\n",
      "Epoch 25/100\n",
      "60/60 [==============================] - 1s 16ms/step - loss: 0.5600 - accuracy: 0.9229\n",
      "Epoch 26/100\n",
      "60/60 [==============================] - 1s 14ms/step - loss: 0.5494 - accuracy: 0.9236\n",
      "Epoch 27/100\n",
      "60/60 [==============================] - 1s 14ms/step - loss: 0.5413 - accuracy: 0.9248\n",
      "Epoch 28/100\n",
      "60/60 [==============================] - 1s 14ms/step - loss: 0.5324 - accuracy: 0.9272\n",
      "Epoch 29/100\n",
      "60/60 [==============================] - 1s 15ms/step - loss: 0.5227 - accuracy: 0.9285\n",
      "Epoch 30/100\n",
      "60/60 [==============================] - 1s 14ms/step - loss: 0.5156 - accuracy: 0.9286\n",
      "Epoch 31/100\n",
      "60/60 [==============================] - 1s 14ms/step - loss: 0.5078 - accuracy: 0.9304\n",
      "Epoch 32/100\n",
      "60/60 [==============================] - 1s 14ms/step - loss: 0.4991 - accuracy: 0.9328\n",
      "Epoch 33/100\n",
      "60/60 [==============================] - 1s 14ms/step - loss: 0.4953 - accuracy: 0.9319\n",
      "Epoch 34/100\n",
      "60/60 [==============================] - 1s 14ms/step - loss: 0.4841 - accuracy: 0.9341\n",
      "Epoch 35/100\n",
      "60/60 [==============================] - 1s 14ms/step - loss: 0.4800 - accuracy: 0.9348\n",
      "Epoch 36/100\n",
      "60/60 [==============================] - 1s 14ms/step - loss: 0.4698 - accuracy: 0.9374\n",
      "Epoch 37/100\n",
      "60/60 [==============================] - 1s 14ms/step - loss: 0.4637 - accuracy: 0.9389\n",
      "Epoch 38/100\n",
      "60/60 [==============================] - 1s 14ms/step - loss: 0.4574 - accuracy: 0.9394\n",
      "Epoch 39/100\n",
      "60/60 [==============================] - 1s 14ms/step - loss: 0.4519 - accuracy: 0.9401\n",
      "Epoch 40/100\n",
      "60/60 [==============================] - 1s 14ms/step - loss: 0.4460 - accuracy: 0.9409\n",
      "Epoch 41/100\n",
      "60/60 [==============================] - 1s 14ms/step - loss: 0.4399 - accuracy: 0.9420\n",
      "Epoch 42/100\n",
      "60/60 [==============================] - 1s 15ms/step - loss: 0.4333 - accuracy: 0.9438\n",
      "Epoch 43/100\n",
      "60/60 [==============================] - 1s 14ms/step - loss: 0.4288 - accuracy: 0.9443\n",
      "Epoch 44/100\n",
      "60/60 [==============================] - 1s 14ms/step - loss: 0.4234 - accuracy: 0.9449\n",
      "Epoch 45/100\n",
      "60/60 [==============================] - 1s 14ms/step - loss: 0.4193 - accuracy: 0.9462\n",
      "Epoch 46/100\n",
      "60/60 [==============================] - 1s 14ms/step - loss: 0.4117 - accuracy: 0.9471\n",
      "Epoch 47/100\n",
      "60/60 [==============================] - 1s 15ms/step - loss: 0.4069 - accuracy: 0.9476\n",
      "Epoch 48/100\n",
      "60/60 [==============================] - 1s 15ms/step - loss: 0.4038 - accuracy: 0.9476\n",
      "Epoch 49/100\n",
      "60/60 [==============================] - 1s 14ms/step - loss: 0.3952 - accuracy: 0.9495\n",
      "Epoch 50/100\n",
      "60/60 [==============================] - 1s 15ms/step - loss: 0.3922 - accuracy: 0.9491\n",
      "Epoch 51/100\n",
      "60/60 [==============================] - 1s 14ms/step - loss: 0.3890 - accuracy: 0.9505\n",
      "Epoch 52/100\n",
      "60/60 [==============================] - 1s 14ms/step - loss: 0.3829 - accuracy: 0.9512\n",
      "Epoch 53/100\n",
      "60/60 [==============================] - 1s 15ms/step - loss: 0.3775 - accuracy: 0.9529\n",
      "Epoch 54/100\n",
      "60/60 [==============================] - 1s 16ms/step - loss: 0.3749 - accuracy: 0.9519\n",
      "Epoch 55/100\n",
      "60/60 [==============================] - 1s 15ms/step - loss: 0.3693 - accuracy: 0.9542\n",
      "Epoch 56/100\n",
      "60/60 [==============================] - 1s 14ms/step - loss: 0.3639 - accuracy: 0.9541\n",
      "Epoch 57/100\n",
      "60/60 [==============================] - 1s 14ms/step - loss: 0.3609 - accuracy: 0.9547\n",
      "Epoch 58/100\n",
      "60/60 [==============================] - 1s 14ms/step - loss: 0.3572 - accuracy: 0.9549\n",
      "Epoch 59/100\n",
      "60/60 [==============================] - 1s 14ms/step - loss: 0.3516 - accuracy: 0.9563\n",
      "Epoch 60/100\n",
      "60/60 [==============================] - 1s 15ms/step - loss: 0.3486 - accuracy: 0.9555\n",
      "Epoch 61/100\n",
      "60/60 [==============================] - 1s 15ms/step - loss: 0.3435 - accuracy: 0.9579\n",
      "Epoch 62/100\n",
      "60/60 [==============================] - 1s 15ms/step - loss: 0.3415 - accuracy: 0.9580\n",
      "Epoch 63/100\n",
      "60/60 [==============================] - 1s 14ms/step - loss: 0.3349 - accuracy: 0.9587\n",
      "Epoch 64/100\n",
      "60/60 [==============================] - 1s 14ms/step - loss: 0.3326 - accuracy: 0.9591\n",
      "Epoch 65/100\n",
      "60/60 [==============================] - 1s 14ms/step - loss: 0.3295 - accuracy: 0.9597\n",
      "Epoch 66/100\n",
      "60/60 [==============================] - 1s 14ms/step - loss: 0.3231 - accuracy: 0.9609\n",
      "Epoch 67/100\n",
      "60/60 [==============================] - 1s 14ms/step - loss: 0.3220 - accuracy: 0.9603\n",
      "Epoch 68/100\n",
      "60/60 [==============================] - 1s 15ms/step - loss: 0.3188 - accuracy: 0.9608\n",
      "Epoch 69/100\n",
      "60/60 [==============================] - 1s 15ms/step - loss: 0.3156 - accuracy: 0.9615\n",
      "Epoch 70/100\n",
      "60/60 [==============================] - 1s 14ms/step - loss: 0.3129 - accuracy: 0.9610\n",
      "Epoch 71/100\n",
      "60/60 [==============================] - 1s 14ms/step - loss: 0.3097 - accuracy: 0.9624\n",
      "Epoch 72/100\n",
      "60/60 [==============================] - 1s 14ms/step - loss: 0.3047 - accuracy: 0.9619\n",
      "Epoch 73/100\n",
      "60/60 [==============================] - 1s 14ms/step - loss: 0.3023 - accuracy: 0.9631\n",
      "Epoch 74/100\n",
      "60/60 [==============================] - 1s 14ms/step - loss: 0.2997 - accuracy: 0.9633\n",
      "Epoch 75/100\n",
      "60/60 [==============================] - 1s 15ms/step - loss: 0.2971 - accuracy: 0.9635\n",
      "Epoch 76/100\n",
      "60/60 [==============================] - 1s 15ms/step - loss: 0.2939 - accuracy: 0.9641\n",
      "Epoch 77/100\n",
      "60/60 [==============================] - 1s 14ms/step - loss: 0.2918 - accuracy: 0.9641\n",
      "Epoch 78/100\n",
      "60/60 [==============================] - 1s 14ms/step - loss: 0.2876 - accuracy: 0.9647\n",
      "Epoch 79/100\n",
      "60/60 [==============================] - 1s 15ms/step - loss: 0.2863 - accuracy: 0.9641\n",
      "Epoch 80/100\n",
      "60/60 [==============================] - 1s 14ms/step - loss: 0.2812 - accuracy: 0.9666\n",
      "Epoch 81/100\n",
      "60/60 [==============================] - 1s 14ms/step - loss: 0.2782 - accuracy: 0.9660\n",
      "Epoch 82/100\n",
      "60/60 [==============================] - 1s 14ms/step - loss: 0.2755 - accuracy: 0.9667\n",
      "Epoch 83/100\n",
      "60/60 [==============================] - 1s 14ms/step - loss: 0.2725 - accuracy: 0.9665\n",
      "Epoch 84/100\n",
      "60/60 [==============================] - 1s 14ms/step - loss: 0.2712 - accuracy: 0.9677\n",
      "Epoch 85/100\n",
      "60/60 [==============================] - 1s 14ms/step - loss: 0.2690 - accuracy: 0.9676\n",
      "Epoch 86/100\n",
      "60/60 [==============================] - 1s 14ms/step - loss: 0.2645 - accuracy: 0.9682\n",
      "Epoch 87/100\n",
      "60/60 [==============================] - 1s 16ms/step - loss: 0.2611 - accuracy: 0.9693\n",
      "Epoch 88/100\n",
      "60/60 [==============================] - 1s 15ms/step - loss: 0.2598 - accuracy: 0.9688\n",
      "Epoch 89/100\n",
      "60/60 [==============================] - 1s 15ms/step - loss: 0.2570 - accuracy: 0.9690\n",
      "Epoch 90/100\n",
      "60/60 [==============================] - 1s 15ms/step - loss: 0.2547 - accuracy: 0.9689\n",
      "Epoch 91/100\n",
      "60/60 [==============================] - 1s 15ms/step - loss: 0.2529 - accuracy: 0.9698\n",
      "Epoch 92/100\n",
      "60/60 [==============================] - 1s 15ms/step - loss: 0.2497 - accuracy: 0.9695\n",
      "Epoch 93/100\n",
      "60/60 [==============================] - 1s 14ms/step - loss: 0.2479 - accuracy: 0.9697\n",
      "Epoch 94/100\n",
      "60/60 [==============================] - 1s 14ms/step - loss: 0.2442 - accuracy: 0.9700\n",
      "Epoch 95/100\n",
      "60/60 [==============================] - 1s 15ms/step - loss: 0.2434 - accuracy: 0.9705\n",
      "Epoch 96/100\n",
      "60/60 [==============================] - 1s 15ms/step - loss: 0.2418 - accuracy: 0.9704\n",
      "Epoch 97/100\n",
      "60/60 [==============================] - 1s 14ms/step - loss: 0.2396 - accuracy: 0.9708\n",
      "Epoch 98/100\n",
      "60/60 [==============================] - 1s 14ms/step - loss: 0.2366 - accuracy: 0.9718\n",
      "Epoch 99/100\n",
      "60/60 [==============================] - 1s 15ms/step - loss: 0.2352 - accuracy: 0.9717\n",
      "Epoch 100/100\n",
      "60/60 [==============================] - 1s 14ms/step - loss: 0.2331 - accuracy: 0.9713\n"
     ]
    },
    {
     "data": {
      "text/plain": [
       "<keras.callbacks.History at 0x1d22ecb0e80>"
      ]
     },
     "execution_count": 18,
     "metadata": {},
     "output_type": "execute_result"
    }
   ],
   "source": [
    "model.fit(x = x_train, y = y_train, batch_size=1000, epochs=100, shuffle=True, verbose=True)"
   ]
  },
  {
   "cell_type": "code",
   "execution_count": 19,
   "id": "87a79389-5726-44e0-90fa-22e3506b1055",
   "metadata": {},
   "outputs": [
    {
     "name": "stdout",
     "output_type": "stream",
     "text": [
      "313/313 [==============================] - 3s 7ms/step - loss: 0.1849 - accuracy: 0.9729\n"
     ]
    },
    {
     "data": {
      "text/plain": [
       "[0.18489378690719604, 0.9728999733924866]"
      ]
     },
     "execution_count": 19,
     "metadata": {},
     "output_type": "execute_result"
    }
   ],
   "source": [
    "model.evaluate(x_test, y_test)"
   ]
  },
  {
   "cell_type": "code",
   "execution_count": null,
   "id": "a2965347-019d-4e3f-8029-251da9cba31f",
   "metadata": {},
   "outputs": [],
   "source": []
  }
 ],
 "metadata": {
  "kernelspec": {
   "display_name": "Python 3 (ipykernel)",
   "language": "python",
   "name": "python3"
  },
  "language_info": {
   "codemirror_mode": {
    "name": "ipython",
    "version": 3
   },
   "file_extension": ".py",
   "mimetype": "text/x-python",
   "name": "python",
   "nbconvert_exporter": "python",
   "pygments_lexer": "ipython3",
   "version": "3.10.2"
  }
 },
 "nbformat": 4,
 "nbformat_minor": 5
}
