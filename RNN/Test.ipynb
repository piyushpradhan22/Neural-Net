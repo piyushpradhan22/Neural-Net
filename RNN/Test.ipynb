{
  "nbformat": 4,
  "nbformat_minor": 0,
  "metadata": {
    "colab": {
      "name": "Test.ipynb",
      "provenance": [],
      "authorship_tag": "ABX9TyPrVEzlq/zj4pYgGMmm8YbE",
      "include_colab_link": true
    },
    "kernelspec": {
      "name": "python3",
      "display_name": "Python 3"
    },
    "language_info": {
      "name": "python"
    }
  },
  "cells": [
    {
      "cell_type": "markdown",
      "metadata": {
        "id": "view-in-github",
        "colab_type": "text"
      },
      "source": [
        "<a href=\"https://colab.research.google.com/github/piyushpradhan22/Neural-Net/blob/master/RNN/Test.ipynb\" target=\"_parent\"><img src=\"https://colab.research.google.com/assets/colab-badge.svg\" alt=\"Open In Colab\"/></a>"
      ]
    },
    {
      "cell_type": "code",
      "source": [
        "import numpy as np\n",
        "import pandas as pd\n",
        "import tensorflow as tf"
      ],
      "metadata": {
        "id": "MrDOVfsBsA71"
      },
      "execution_count": null,
      "outputs": []
    },
    {
      "cell_type": "code",
      "source": [
        "(x_train, y_train), (x_test, y_test) = tf.keras.datasets.mnist.load_data()\n",
        "\n",
        "x_train = x_train.reshape(x_train.shape[0], x_train.shape[1]*x_train.shape[2])/255\n",
        "x_test = x_test.reshape(x_test.shape[0], x_test.shape[1]*x_test.shape[2])/255\n",
        "y_train_1h = pd.get_dummies(pd.DataFrame(y_train)[0]).to_numpy()\n",
        "print(x_train.shape, y_train.shape, y_train_1h.shape, x_test.shape, y_test.shape)"
      ],
      "metadata": {
        "colab": {
          "base_uri": "https://localhost:8080/"
        },
        "id": "suX0HMAmsJ_1",
        "outputId": "5cea5411-eac1-4dd0-ec5c-eafd75ed592f"
      },
      "execution_count": null,
      "outputs": [
        {
          "output_type": "stream",
          "name": "stdout",
          "text": [
            "(60000, 784) (60000,) (60000, 10) (10000, 784) (10000,)\n"
          ]
        }
      ]
    },
    {
      "cell_type": "code",
      "source": [
        "input_dim = 784\n",
        "n = 128\n",
        "classes = 10; e=1; gamma=1; var=1; learning_rate=1\n",
        "\n",
        "gamma_I = gamma*np.identity(n)\n",
        "W_oh = np.random.normal(0, var/n, [classes,n])          \n",
        "W_hh = np.random.normal(0, var/n, [n,n])                 \n",
        "V_h = np.random.normal(0, 1/input_dim, [n,input_dim])                     \n",
        "b_h = np.zeros([n,1])"
      ],
      "metadata": {
        "id": "UsEgxf-armWz"
      },
      "execution_count": null,
      "outputs": []
    },
    {
      "cell_type": "code",
      "source": [
        "W_oh.shape"
      ],
      "metadata": {
        "colab": {
          "base_uri": "https://localhost:8080/"
        },
        "id": "a453VYgtsgwf",
        "outputId": "3e5b5d93-5b29-476b-b262-d502caa622be"
      },
      "execution_count": null,
      "outputs": [
        {
          "output_type": "execute_result",
          "data": {
            "text/plain": [
              "(10, 128)"
            ]
          },
          "metadata": {},
          "execution_count": 21
        }
      ]
    },
    {
      "cell_type": "code",
      "source": [
        "W_hh.shape"
      ],
      "metadata": {
        "colab": {
          "base_uri": "https://localhost:8080/"
        },
        "id": "W9AoXINcso5M",
        "outputId": "7b6653a9-afcd-45a2-824f-2633cf1ae693"
      },
      "execution_count": null,
      "outputs": [
        {
          "output_type": "execute_result",
          "data": {
            "text/plain": [
              "(128, 128)"
            ]
          },
          "metadata": {},
          "execution_count": 22
        }
      ]
    },
    {
      "cell_type": "code",
      "source": [
        ""
      ],
      "metadata": {
        "id": "fSsy43Gasqy2"
      },
      "execution_count": null,
      "outputs": []
    }
  ]
}